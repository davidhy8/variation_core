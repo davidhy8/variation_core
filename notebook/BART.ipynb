{
 "cells": [
  {
   "cell_type": "code",
   "execution_count": 10,
   "id": "f1b6defa-a553-4c43-8ab9-4ad12fd36148",
   "metadata": {},
   "outputs": [],
   "source": [
    "import os\n",
    "os.environ['TRANSFORMERS_CACHE'] = '/home/david.yang1/.cache/huggingface/'\n",
    "os.environ['HF_HOME'] = '/home/david.yang1/.cache/huggingface/'"
   ]
  },
  {
   "cell_type": "code",
   "execution_count": 11,
   "id": "350b26d6-f8ac-420c-9990-e49ce5325cc0",
   "metadata": {},
   "outputs": [],
   "source": [
    "# Load model directly\n",
    "from transformers import BartTokenizer, BartForConditionalGeneration\n",
    "import pandas as pd"
   ]
  },
  {
   "cell_type": "code",
   "execution_count": 12,
   "id": "3bdbaa47-8ce2-4841-9049-c86e6736efd0",
   "metadata": {},
   "outputs": [],
   "source": [
    "# Load data\n",
    "data = pd.read_csv(\"/home/david.yang1/autolit/viriation/data/pipeline_data/paper_flagging_data/bert_dataset.csv\")\n",
    "flagged_papers = data[data[\"label\"] == 1]"
   ]
  },
  {
   "cell_type": "markdown",
   "id": "ef0c6a43-ec50-4003-91b9-33c205c69295",
   "metadata": {},
   "source": [
    "# Initial testing"
   ]
  },
  {
   "cell_type": "code",
   "execution_count": 17,
   "id": "84fc87eb-b02b-4e5f-b3f4-0123ecbee7a2",
   "metadata": {},
   "outputs": [
    {
     "data": {
      "application/vnd.jupyter.widget-view+json": {
       "model_id": "e7549ebc5f5741c9b46e437992dc70f5",
       "version_major": 2,
       "version_minor": 0
      },
      "text/plain": [
       "tokenizer_config.json:   0%|          | 0.00/1.13k [00:00<?, ?B/s]"
      ]
     },
     "metadata": {},
     "output_type": "display_data"
    },
    {
     "data": {
      "application/vnd.jupyter.widget-view+json": {
       "model_id": "5454a229b1f44e8f8fefbe9691b82049",
       "version_major": 2,
       "version_minor": 0
      },
      "text/plain": [
       "vocab.json:   0%|          | 0.00/1.59M [00:00<?, ?B/s]"
      ]
     },
     "metadata": {},
     "output_type": "display_data"
    },
    {
     "data": {
      "application/vnd.jupyter.widget-view+json": {
       "model_id": "04aa58316daa4eac8a6d5599c4f1e33b",
       "version_major": 2,
       "version_minor": 0
      },
      "text/plain": [
       "merges.txt:   0%|          | 0.00/892k [00:00<?, ?B/s]"
      ]
     },
     "metadata": {},
     "output_type": "display_data"
    },
    {
     "data": {
      "application/vnd.jupyter.widget-view+json": {
       "model_id": "28120aec50884e98aa3687983ea534f0",
       "version_major": 2,
       "version_minor": 0
      },
      "text/plain": [
       "special_tokens_map.json:   0%|          | 0.00/772 [00:00<?, ?B/s]"
      ]
     },
     "metadata": {},
     "output_type": "display_data"
    },
    {
     "data": {
      "application/vnd.jupyter.widget-view+json": {
       "model_id": "d5532ebb965d4a28baf81078bc1a7515",
       "version_major": 2,
       "version_minor": 0
      },
      "text/plain": [
       "config.json:   0%|          | 0.00/1.72k [00:00<?, ?B/s]"
      ]
     },
     "metadata": {},
     "output_type": "display_data"
    },
    {
     "data": {
      "application/vnd.jupyter.widget-view+json": {
       "model_id": "673121ff2efb4deeb8aa7a52115583d5",
       "version_major": 2,
       "version_minor": 0
      },
      "text/plain": [
       "model.safetensors:   0%|          | 0.00/666M [00:00<?, ?B/s]"
      ]
     },
     "metadata": {},
     "output_type": "display_data"
    }
   ],
   "source": [
    "# Load BioBART model and tokenizer\n",
    "model_name = 'GanjinZero/biobart-v2-base'  # Assuming BioBART is available with this name\n",
    "tokenizer = BartTokenizer.from_pretrained(model_name)\n",
    "model = BartForConditionalGeneration.from_pretrained(model_name)"
   ]
  },
  {
   "cell_type": "code",
   "execution_count": 30,
   "id": "807e7e15-ff50-411a-b267-61d0f89b9834",
   "metadata": {},
   "outputs": [
    {
     "name": "stdout",
     "output_type": "stream",
     "text": [
      "Rapid detection and tracking of Omicron variant of SARS-CoV-2 using CRISPR-Cas12a-based assayBackgroundThe newly emerged SARS-CoV-2 variant of concern (VOC) Omicron is spreading quickly worldwide, which manifests an urgent need of simple and rapid assay to detect and diagnose Omicron infection and track its spread.MethodsTo design allele-specific CRISPR RNAs (crRNAs) targeting the signature mutations in the spike protein of Omicron variant, and to develop a CRISPR-Cas12a-based assay to specifically detect Omicron variant.ResultsOur system showed a low limit of detection of 2 copies per reaction for the plasmid DNA of Omicron variant, and could readily detect Omicron variant in 5 laboratory-confirmed clinical samples and distinguish them from 57 SARS-CoV-2 positive clinical samples (4 virus isolates and 53 oropharyngeal swab specimens) infected with wild-type (N = 8) and the variants of Alpha (N = 17), Beta (N = 17) and Delta (N = 15).The testing results could be measured by fluorescent detector or judged by naked eyes.In addition, no cross-reaction was observed when detecting 16 clinical samples infected with 9 common respiratory pathogens.ConclusionsThe rapid assay could be easily set up in laboratories already conducting SARS-CoV-2 nucleic acid amplification tests and implemented routinely in resource-limited settings to monitor and track the spread of Omicron variant.IntroductionContinuing spread and evolution of SARS-CoV-2 have resulted in the emergence of various variants that have infected and killed millions of people.The newly emerged fifth variant of concern (VOC) Omicron was firstly reported in South Africa on November 24, 2021 and has been detected in many countries.Omicron variant contains more than 32 amino acid mutations in the spike protein, including multiple vital amino acid mutations (K417N, T478K, E484A, N501Y, and D614G) that have been already detected in other VOCs of SARS-CoV-2 and proved to be associated with enhanced transmissibility, virulence, and greater resistance to the immune protection induced by COVID-19 vaccines.The new features of Omicron manifested the importance of tracking its spread.Reverse transcription polymerase chain reaction (RT-PCR) has been widely used for diagnosing SARS-CoV-2 infection and genotyping SARS-CoV-2 variants.\n",
      "[{'summary_text': 'Rapid detection and tracking of Omicron variant of SARS-CoV-2 using CRISPR-Cas12a-based assayBackgroundThe newly emerged SARS-COV-2 variant of concern (VOC) Omicron is spreading quickly worldwide, which manifests an urgent need of simple and rapid assay to detect and diagnose Omicron infection and track its spread.MethodsTo design allele-specific CRISPRs RNAs (crRNAs) targeting the signature mutations in '}]\n"
     ]
    }
   ],
   "source": [
    "from transformers import pipeline\n",
    "\n",
    "# summarizer = pipeline(\"summarization\", model=\"facebook/bart-large-cnn\")\n",
    "summarizer = pipeline(\"summarization\", model=\"GanjinZero/biobart-v2-base\")\n",
    "\n",
    "# text = \"Omicron variant contains more than 32 amino acid mutations in the spike protein, including multiple vital amino acid mutations (K417N, T478K, E484A, N501Y, and D614G) that have been already detected in other VOCs of SARS-CoV-2 and proved to be associated with enhanced transmissibility, virulence, and greater resistance to the immune protection induced by COVID-19 vaccines.\"\n",
    "# text = flagged_papers[\"text\"].iloc[0]\n",
    "text = \"Rapid detection and tracking of Omicron variant of SARS-CoV-2 using CRISPR-Cas12a-based assayBackgroundThe newly emerged SARS-CoV-2 variant of concern (VOC) Omicron is spreading quickly worldwide, which manifests an urgent need of simple and rapid assay to detect and diagnose Omicron infection and track its spread.MethodsTo design allele-specific CRISPR RNAs (crRNAs) targeting the signature mutations in the spike protein of Omicron variant, and to develop a CRISPR-Cas12a-based assay to specifically detect Omicron variant.ResultsOur system showed a low limit of detection of 2 copies per reaction for the plasmid DNA of Omicron variant, and could readily detect Omicron variant in 5 laboratory-confirmed clinical samples and distinguish them from 57 SARS-CoV-2 positive clinical samples (4 virus isolates and 53 oropharyngeal swab specimens) infected with wild-type (N = 8) and the variants of Alpha (N = 17), Beta (N = 17) and Delta (N = 15).The testing results could be measured by fluorescent detector or judged by naked eyes.In addition, no cross-reaction was observed when detecting 16 clinical samples infected with 9 common respiratory pathogens.ConclusionsThe rapid assay could be easily set up in laboratories already conducting SARS-CoV-2 nucleic acid amplification tests and implemented routinely in resource-limited settings to monitor and track the spread of Omicron variant.IntroductionContinuing spread and evolution of SARS-CoV-2 have resulted in the emergence of various variants that have infected and killed millions of people.The newly emerged fifth variant of concern (VOC) Omicron was firstly reported in South Africa on November 24, 2021 and has been detected in many countries.Omicron variant contains more than 32 amino acid mutations in the spike protein, including multiple vital amino acid mutations (K417N, T478K, E484A, N501Y, and D614G) that have been already detected in other VOCs of SARS-CoV-2 and proved to be associated with enhanced transmissibility, virulence, and greater resistance to the immune protection induced by COVID-19 vaccines.The new features of Omicron manifested the importance of tracking its spread.Reverse transcription polymerase chain reaction (RT-PCR) has been widely used for diagnosing SARS-CoV-2 infection and genotyping SARS-CoV-2 variants.\"\n",
    "print(text)\n",
    "\n",
    "print(summarizer(text, max_length=100, min_length=30, do_sample=False))"
   ]
  },
  {
   "cell_type": "code",
   "execution_count": 6,
   "id": "6b7d297b-cfa5-4983-93cf-ccdba3c74dd2",
   "metadata": {},
   "outputs": [
    {
     "name": "stdout",
     "output_type": "stream",
     "text": [
      "tensor([[    2, 18581,  3916,  2072,    35,   384, 15796,  2839, 17390,  6308,\n",
      "            55,    87,  2107, 37788, 10395, 28513,    11,     5, 12490,  8276,\n",
      "             6,   217,  1533,  4874, 37788, 10395, 31425,    36,   530, 36711,\n",
      "           487,     6,   255, 37664,   530,     6,   381, 37810,   250,     6,\n",
      "           234, 36144,   975,     6,     8,   211, 40082,   534,    43,    14,\n",
      "            33,    57,   416, 12333,    11,    97,   468,  4571,    29,     9,\n",
      "           208, 22210,    12,  8739,   846,    12,   176,     8,  4362,     7,\n",
      "            28,  3059,    19,  9094,  6214, 17745, 12203,     6, 26354, 42115,\n",
      "             6,     8,  2388,  5910,     7,     5,  9161,  2591, 26914,    30,\n",
      "          6247, 43814,    12,  1646, 16968,     4,     2]])\n",
      "summarize: Omicron variant contains more than 32 amino acid mutations in the spike protein, including multiple vital amino acid mutation (K417N, T478K, E484A, N501Y, and D614G) that have been already detected in other VOCs of SARS-CoV-2 and proved to be associated with enhanced transmissibility, virulence, and greater resistance to the immune protection induced by COVID-19 vaccines.\n"
     ]
    }
   ],
   "source": [
    "# Input text (biomedical paper abstract)\n",
    "text = flagged_papers[\"text\"].iloc[0]\n",
    "# text = \"Omicron variant contains more than 32 amino acid mutations in the spike protein, including multiple vital amino acid mutations (K417N, T478K, E484A, N501Y, and D614G) that have been already detected in other VOCs of SARS-CoV-2 and proved to be associated with enhanced transmissibility, virulence, and greater resistance to the immune protection induced by COVID-19 vaccines.\"\n",
    "\n",
    "# Tokenize input\n",
    "inputs = tokenizer.encode(\"summarize: \" + text, return_tensors=\"pt\", max_length=1024, truncation=True)\n",
    "\n",
    "# print(tokenizer.decode(inputs[0], skip_special_tokens=True))\n",
    "\n",
    "# Generate summary\n",
    "summary_ids = model.generate(inputs, max_length=1024, min_length=40, length_penalty=2.0, num_beams=4, early_stopping=True)\n",
    "print(summary_ids)\n",
    "summary = tokenizer.decode(summary_ids[0], skip_special_tokens=True)\n",
    "\n",
    "print(summary)"
   ]
  },
  {
   "cell_type": "code",
   "execution_count": 8,
   "id": "c0aec71e-7b68-43ca-801f-684eec8acdee",
   "metadata": {},
   "outputs": [
    {
     "name": "stderr",
     "output_type": "stream",
     "text": [
      "2024-07-15 14:11:16.807462: I tensorflow/tsl/cuda/cudart_stub.cc:28] Could not find cuda drivers on your machine, GPU will not be used.\n",
      "2024-07-15 14:11:16.843134: E tensorflow/compiler/xla/stream_executor/cuda/cuda_dnn.cc:9342] Unable to register cuDNN factory: Attempting to register factory for plugin cuDNN when one has already been registered\n",
      "2024-07-15 14:11:16.843170: E tensorflow/compiler/xla/stream_executor/cuda/cuda_fft.cc:609] Unable to register cuFFT factory: Attempting to register factory for plugin cuFFT when one has already been registered\n",
      "2024-07-15 14:11:16.843211: E tensorflow/compiler/xla/stream_executor/cuda/cuda_blas.cc:1518] Unable to register cuBLAS factory: Attempting to register factory for plugin cuBLAS when one has already been registered\n",
      "2024-07-15 14:11:16.851255: I tensorflow/core/platform/cpu_feature_guard.cc:182] This TensorFlow binary is optimized to use available CPU instructions in performance-critical operations.\n",
      "To enable the following instructions: AVX2 AVX512F FMA, in other operations, rebuild TensorFlow with the appropriate compiler flags.\n",
      "2024-07-15 14:11:17.806692: W tensorflow/compiler/tf2tensorrt/utils/py_utils.cc:38] TF-TRT Warning: Could not find TensorRT\n"
     ]
    }
   ],
   "source": [
    "from transformers import pipeline"
   ]
  },
  {
   "cell_type": "code",
   "execution_count": 9,
   "id": "2752793d-ca6f-4819-a040-fbc3c235fd01",
   "metadata": {},
   "outputs": [
    {
     "name": "stderr",
     "output_type": "stream",
     "text": [
      "/home/david.yang1/.local/lib/python3.11/site-packages/huggingface_hub/file_download.py:1132: FutureWarning: `resume_download` is deprecated and will be removed in version 1.0.0. Downloads always resume when possible. If you want to force a new download, use `force_download=True`.\n",
      "  warnings.warn(\n"
     ]
    }
   ],
   "source": [
    "# Load the BART summarization pipeline\n",
    "summarizer = pipeline(\"summarization\", model='GanjinZero/biobart-large', tokenizer='GanjinZero/biobart-large')"
   ]
  },
  {
   "cell_type": "code",
   "execution_count": 11,
   "id": "2343a74c-c20b-423c-b40c-fc4ed0c7bc86",
   "metadata": {},
   "outputs": [],
   "source": [
    "summary1 = summarizer(text, max_length=150, min_length=50, length_penalty=2.0, num_beams=4, truncation=True)"
   ]
  },
  {
   "cell_type": "code",
   "execution_count": 12,
   "id": "fc9a85b2-467e-4a2a-a735-83ee47bfa732",
   "metadata": {},
   "outputs": [
    {
     "data": {
      "text/plain": [
       "[{'summary_text': 'Nirmatrelvir-resistant SARS-CoV-2 variants with high fitness in an infectious cell culture systemThe oral protease inhibitor nirmatrevir is of key importance for prevention of severe coronavirus disease 2019 (COVID-19). To facilitate resistance monitoring, we studied severe acute respiratory syndrome coronavir 2 (SARS-Cov-2) explain resistance–associated substitutions in the transporter1 and combinationiv1 demonstrated respectively, a fitness level of ECbtiv0.1, The variants to remivelvir and human kidney concentrations. AND median-2 AND human kidney differences. Reverse genetics revealed that E166V and L50F\\xa0+\\xa0E166V conferred high resistance in infectious'}]"
      ]
     },
     "execution_count": 12,
     "metadata": {},
     "output_type": "execute_result"
    }
   ],
   "source": [
    "summary1"
   ]
  },
  {
   "cell_type": "code",
   "execution_count": null,
   "id": "a5af5f24-457c-4d76-aaa0-eac32969ffdd",
   "metadata": {},
   "outputs": [],
   "source": [
    "text"
   ]
  },
  {
   "cell_type": "code",
   "execution_count": 15,
   "id": "83eaf92c-87c9-4459-a1b0-c359de071940",
   "metadata": {},
   "outputs": [],
   "source": [
    "from transformers import BartForQuestionAnswering, pipeline\n",
    "import torch"
   ]
  },
  {
   "cell_type": "code",
   "execution_count": 16,
   "id": "4f0f6d37-3b6e-46a0-bdfd-85023235d4ed",
   "metadata": {},
   "outputs": [
    {
     "name": "stderr",
     "output_type": "stream",
     "text": [
      "Some weights of BartForQuestionAnswering were not initialized from the model checkpoint at GanjinZero/biobart-large and are newly initialized: ['qa_outputs.bias', 'qa_outputs.weight']\n",
      "You should probably TRAIN this model on a down-stream task to be able to use it for predictions and inference.\n"
     ]
    }
   ],
   "source": [
    "qnamodel = BartForQuestionAnswering.from_pretrained(model_name)"
   ]
  },
  {
   "cell_type": "code",
   "execution_count": 18,
   "id": "9136e468-bce0-4416-9be2-ed2f5eac0b23",
   "metadata": {},
   "outputs": [],
   "source": [
    "question = \"What are the effects of the mutation E166V?\"\n",
    "text = flagged_papers[\"text\"].iloc[0]"
   ]
  },
  {
   "cell_type": "code",
   "execution_count": 19,
   "id": "990ae39c-3178-413a-9e61-a80bbfe00e71",
   "metadata": {},
   "outputs": [
    {
     "name": "stderr",
     "output_type": "stream",
     "text": [
      "Some weights of BartForQuestionAnswering were not initialized from the model checkpoint at GanjinZero/biobart-large and are newly initialized: ['qa_outputs.bias', 'qa_outputs.weight']\n",
      "You should probably TRAIN this model on a down-stream task to be able to use it for predictions and inference.\n"
     ]
    }
   ],
   "source": [
    "## make Q/A pipeline (pretrained bert model from hugging face) to extract procedure from raw text\n",
    "qa_pipeline = pipeline(\n",
    "    \"question-answering\",\n",
    "    model='GanjinZero/biobart-large',\n",
    "    tokenizer='GanjinZero/biobart-large'\n",
    ")"
   ]
  },
  {
   "cell_type": "code",
   "execution_count": 20,
   "id": "2b73b1fc-f88c-4f86-bcd9-8c7442ffbac0",
   "metadata": {},
   "outputs": [],
   "source": [
    "def procedure(text, question):\n",
    "    result = []\n",
    "    result.append(qa_pipeline({\n",
    "    'context': text,\n",
    "    'question': question\n",
    "}))\n",
    "    return {'Question':question,'Answer':result[0]['answer'], 'Score':result[0]['score']}"
   ]
  },
  {
   "cell_type": "code",
   "execution_count": 21,
   "id": "47fdd916-5669-4c25-b65f-a9c0512d1542",
   "metadata": {},
   "outputs": [
    {
     "data": {
      "text/plain": [
       "{'Question': 'What are the effects of the mutation E166V?',\n",
       " 'Answer': 'for titratable',\n",
       " 'Score': 0.00039796289638616145}"
      ]
     },
     "execution_count": 21,
     "metadata": {},
     "output_type": "execute_result"
    }
   ],
   "source": [
    "result=procedure(text, question)\n",
    "result"
   ]
  },
  {
   "cell_type": "code",
   "execution_count": 32,
   "id": "a933042e-f4a5-434b-8bbb-a5d6f597a43f",
   "metadata": {},
   "outputs": [
    {
     "data": {
      "text/plain": [
       "{'Question': 'Was any mutations mentioned?',\n",
       " 'Answer': '156152/download.Effect of oral nirmatrelvir on long COVID',\n",
       " 'Score': 0.0003184566448908299}"
      ]
     },
     "execution_count": 32,
     "metadata": {},
     "output_type": "execute_result"
    }
   ],
   "source": [
    "result2=procedure(text, \"Was any mutations mentioned?\")\n",
    "result2"
   ]
  },
  {
   "cell_type": "code",
   "execution_count": 33,
   "id": "3b655aeb-89ed-4a0a-b1d5-38b03fd6c58f",
   "metadata": {},
   "outputs": [
    {
     "data": {
      "text/plain": [
       "{'Question': 'what virus was discussed in this paper?',\n",
       " 'Answer': '156152/download.Effect of oral nirmatrelvir on long COVID',\n",
       " 'Score': 0.0003479756705928594}"
      ]
     },
     "execution_count": 33,
     "metadata": {},
     "output_type": "execute_result"
    }
   ],
   "source": [
    "result3=procedure(text, \"what virus was discussed in this paper?\")\n",
    "result3"
   ]
  },
  {
   "cell_type": "markdown",
   "id": "1c19936c-9d62-49f4-abdc-2f5f5f058511",
   "metadata": {},
   "source": [
    "# Train BioBART model"
   ]
  },
  {
   "cell_type": "code",
   "execution_count": 2,
   "id": "4f8fe209-f40b-43a9-afcf-33f99d06a8c9",
   "metadata": {},
   "outputs": [],
   "source": [
    "from sklearn.model_selection import train_test_split\n",
    "import pandas as pd"
   ]
  },
  {
   "cell_type": "code",
   "execution_count": 3,
   "id": "dfa061d3-e4f3-49aa-aa40-ad90101edc64",
   "metadata": {},
   "outputs": [],
   "source": [
    "data = pd.read_csv(\"../data/pipeline_data/pokay.csv\")"
   ]
  },
  {
   "cell_type": "code",
   "execution_count": 6,
   "id": "190a1400-6077-4337-b146-91ae2dca891f",
   "metadata": {},
   "outputs": [],
   "source": [
    "X = data[\"text\"]\n",
    "y = data[\"summary\"]"
   ]
  },
  {
   "cell_type": "code",
   "execution_count": 7,
   "id": "37169a79-ffd5-415d-8e17-71fa1118733e",
   "metadata": {},
   "outputs": [],
   "source": [
    "X_train, X_test, y_train, y_test = train_test_split(\n",
    "    X, y, test_size=0.3, random_state=42)"
   ]
  },
  {
   "cell_type": "code",
   "execution_count": null,
   "id": "f7563b99-33a4-4730-a238-5c69714c6ea9",
   "metadata": {},
   "outputs": [],
   "source": []
  }
 ],
 "metadata": {
  "kernelspec": {
   "display_name": "Python 3 (ipykernel)",
   "language": "python",
   "name": "python3"
  },
  "language_info": {
   "codemirror_mode": {
    "name": "ipython",
    "version": 3
   },
   "file_extension": ".py",
   "mimetype": "text/x-python",
   "name": "python",
   "nbconvert_exporter": "python",
   "pygments_lexer": "ipython3",
   "version": "3.11.5"
  }
 },
 "nbformat": 4,
 "nbformat_minor": 5
}
