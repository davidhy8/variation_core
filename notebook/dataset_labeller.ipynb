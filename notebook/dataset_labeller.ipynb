{
 "cells": [
  {
   "cell_type": "code",
   "execution_count": 1,
   "id": "1a5941f9-edce-4268-9430-cef1afc136d8",
   "metadata": {},
   "outputs": [],
   "source": [
    "import numpy as np\n",
    "import pandas as pd\n",
    "from nltk.tokenize import sent_tokenize"
   ]
  },
  {
   "cell_type": "code",
   "execution_count": 2,
   "id": "dffa4b57-44ab-40c7-a000-13c98c9d588d",
   "metadata": {},
   "outputs": [],
   "source": [
    "def get_label(df, column):\n",
    "    label_input=[]\n",
    "    for i in df[column]:\n",
    "        print(i)\n",
    "        \n",
    "        while True:\n",
    "            label = int(input('Does this relate to viral variants? (0 = No, 1 = Yes)'))\n",
    "            if label == 0 or label == 1:\n",
    "                break\n",
    "            \n",
    "        label_input.append(label)\n",
    "        print(\" \")\n",
    "    df['label'] = label_input\n",
    "    return df"
   ]
  },
  {
   "cell_type": "markdown",
   "id": "328a57db-9bd6-46f3-b3d7-36453bff2a04",
   "metadata": {},
   "source": [
    "# Label sentences within paper"
   ]
  },
  {
   "cell_type": "code",
   "execution_count": null,
   "id": "4da26589-2f8a-42bb-9f4c-af96c33ac251",
   "metadata": {},
   "outputs": [],
   "source": [
    "# Load data and create example text\n",
    "df = pd.read_csv('bn_pub_dataset_3.csv')\n",
    "\n",
    "# Check class distribution\n",
    "print(df['label'].value_counts())\n",
    "\n",
    "# Balance classes if needed\n",
    "df = df.groupby('label').sample(n=min(df['label'].value_counts()), random_state=42)\n",
    "\n",
    "# Shuffle the dataset\n",
    "df = df.sample(frac=1, random_state=42)\n",
    "df = df[[\"text\", \"label\"]]\n",
    "\n",
    "subsample = df.sample(n=15, random_state=42)"
   ]
  },
  {
   "cell_type": "code",
   "execution_count": null,
   "id": "e7dab3ba-4326-4319-b073-91a570d28307",
   "metadata": {},
   "outputs": [],
   "source": [
    "# LABEL SENTENCES\n",
    "# Obtain list of sentences \n",
    "text = subsample[\"text\"]\n",
    "\n",
    "# Testing with simple test case\n",
    "# example = [\"hisi is cool. But I think I am cooler.\", \"www.wikipedia.com contains a lot of interesting information. John should definitely visit it.\"]\n",
    "# text = pd.DataFrame(example, columns=['text'])\n",
    "# text = text[\"text\"]\n",
    "\n",
    "text_index = 0\n",
    "\n",
    "# Iterate through each paper\n",
    "for i in text:\n",
    "\n",
    "    if text_index < 2:\n",
    "        text_index += 1\n",
    "        continue\n",
    "    \n",
    "    # Split text into sentences\n",
    "    sentences = sent_tokenize(i)\n",
    "\n",
    "    # For test purposes ONLY\n",
    "    # sentences = sentences[:100]\n",
    "\n",
    "    # Create dataframe containing all sentences in text\n",
    "    sentences_df = pd.DataFrame(sentences, columns=['text'])\n",
    "\n",
    "    # Split dataframe into smaller dataframes to work with\n",
    "    sentences_df_split = np.array_split(sentences_df,10)\n",
    "\n",
    "    # Instantiate dataframe\n",
    "    result = pd.DataFrame(columns=[\"text\", \"label\"])\n",
    "\n",
    "    # Save dataframe for current paper\n",
    "    filename = str(text_index) + \"_sentence_labelled.csv\"\n",
    "    \n",
    "    # Iterate through the split\n",
    "    for split in sentences_df_split:\n",
    "        # Manually label each sentence in the split\n",
    "        labelled_split = get_label(split, 'text')\n",
    "\n",
    "        # Combine labelled_split with result\n",
    "        result = pd.concat([result, labelled_split])\n",
    "\n",
    "        # Save current results (checkpoint)\n",
    "        result.to_csv(filename)\n",
    "        \n",
    "    # Manually label each sentence\n",
    "    # sentences_df = get_label(sentences_df, 'text')\n",
    "\n",
    "    # Save dataframe for current paper\n",
    "    filename = str(text_index) + \"_sentence_labelled.csv\"\n",
    "    # sentences_df.to_csv(filename)\n",
    "\n",
    "    # Point to next paper\n",
    "    text_index += 1\n",
    "\n",
    "    print(\"Moving on to paper #\" + str(text_index) + \"\\n\")\n",
    "\n",
    "print(\"Finished labelling \" + str(text_index) + \" papers.\")"
   ]
  },
  {
   "cell_type": "markdown",
   "id": "0241372f-5d4b-4b27-9824-6b5b92ad5c52",
   "metadata": {},
   "source": [
    "# Labelling 512-token chunks"
   ]
  },
  {
   "cell_type": "code",
   "execution_count": null,
   "id": "dc1bddf4-91e0-4c38-a958-51da03c47a8b",
   "metadata": {},
   "outputs": [
    {
     "name": "stderr",
     "output_type": "stream",
     "text": [
      "/opt/conda/lib/python3.11/site-packages/numpy/core/fromnumeric.py:57: FutureWarning: 'DataFrame.swapaxes' is deprecated and will be removed in a future version. Please use 'DataFrame.transpose' instead.\n",
      "  return bound(*args, **kwds)\n"
     ]
    },
    {
     "name": "stdout",
     "output_type": "stream",
     "text": [
      "Current split 0\n",
      "Structural basis of RNA cap modification by SARS-CoV-2The severe acute respiratory syndrome coronavirus-2 (SARS-CoV-2), the causative agent of COVID-19 illness, has caused millions of infections worldwide. In SARS coronaviruses, the non-structural protein 16 (nsp16), in conjunction with nsp10, methylates the 5'-end of virally encoded mRNAs to mimic cellular mRNAs, thus protecting the virus from host innate immune restriction. We report here the high-resolution structure of a ternary complex of SARS-CoV-2 nsp16 and nsp10 in the presence of cognate RNA substrate analogue and methyl donor, S-adenosyl methionine (SAM). The nsp16/nsp10 heterodimer is captured in the act of 2'-O methylation of the ribose sugar of the first nucleotide of SARS-CoV-2 mRNA. We observe large conformational changes associated with substrate binding as the enzyme transitions from a binary to a ternary state. This induced fit model provides mechanistic insights into the 2'-O methylation of the viral mRNA cap. We also discover a distant (25 A) ligand-binding site unique to SARS-CoV-2, which can alternatively be targeted, in addition to RNA cap and SAM pockets, for antiviral development.Specific non-structural proteins (nsp) of SARS coronaviruses are involved in methylation of virally encoded mRNAs to mimic cellular mRNAs for protection against host innate immune restriction. Here, the authors present a high resolution structure of SARS-CoV-2 nsp16/nsp10 ternary complex in the presence of cognate RNA substrate analogue and methyl donor, S-adenosyl methionine, revealing unique ligand-binding sites that may represent alternative targets for antiviral development.IntroductionThe massive global pandemic with high morbidity and mortality makes SARS-CoV-2 one of the deadliest viruses in recent history. To develop effective therapies, we need a better understanding of the mechanisms that permit the virus to invade cells and evade host immune restriction. SARS-CoV-2 is an enveloped beta-coronavirus with a large, complex positive-sense single-stranded RNA genome. To hijack the host translation machinery for propagation, enzymes encoded by the genome of coronaviruses (CoVs) modify the 5'-end of virally encoded mRNAs by creating a cap. RNA capping in CoVs involves activities of several nonstructural proteins (nsps): nsp13, a bifunctional RNA/NTP triphosphatase (TPase) and helicase; nsp14, a bifunctional 3' 5' mismatch exonuclease, and mRNA cap guanine-N7 methyltransferase; nsp16, a cap ribose 2'-O methyltransferase; and an elusive guanylyl transferase.Nsp16 forms an obligatory complex with nsp10 to efficiently convert client mRNA species from the Cap-0 (me7GopppA1) to the Cap-1 form (me7GopppA1m), by methylating the ribose 2'-O of the first nucleotide (usually adenosine in CoVs) of the nascent mRNA using SAM (S-adenosyl methionine) as the methyl donor. While both Cap-0 and Cap-1 forms promote the recruitment of the host translation factor eIF4E, the Cap-0 form favors the binding of interferon-induced proteins with tetratricopeptide repeats 1 (IFIT1) to viral RNAs. Thus, the Cap-1 form not only enhances translation, but also serves to avoid induction of the innate immune response mediated by interferon stimulated genes such as IFIT. Genetic disruption of SARS-CoV nsp16 markedly reduces (10-fold) the synthesis of viral RNA. Hence, the ablation of nsp16 activity should trigger an immune response to CoV infection and limit pathogenesis. It has been shown that live vaccination with nsp16-defective SARS-CoV-1 or an immunogenic disruption of the nsp16-nsp10 interface protects mice from an otherwise lethal challenge, making nsp16/nsp10 an attractive drug target.Crystal structures of SARS-CoV-1 nsp16/nsp10 in complex with SAM/SAH or sinefungin, but without an RNA cap, have been reported, so that key information about the catalytic mechanism of mRNA capping in CoVs, and SARS-CoV-2 in particular, is still missing. To understand the determinants of RNA cap modification and help guide the development of SARS-CoV-2 antiviral therapies, we have now succeeded in solving the high-resolution structure (to 1.8 A resolution) of SARS-CoV-2 nsp16/nsp10 in complex with the methyl donor (SAM) and its target, RNA cap me7GopppA1.We show how this enzyme is specifically adapted to bind and methylate the RNA cap. The structure provides a snapshot of pre-catalytic state of methyl transfer from SAM to 2'-OH of ribose of the first transcribing nucleotide of the mRNA cap. It also reveals the nature of conformational change in nsp16, the catalytic subunit of nsp16/nsp10 complex, induced by RNA cap binding. Another striking finding includes an alternative ligand-binding site in nsp16 with distinct capability to accommodate small molecule ligands. Finally, we map the acquired mutations in SARS-CoV-2 nsp16. One of these mutation hotspots showed high frequency in COVID-19 strains associated with New York City outbreak. Together, our work provides a solid framework from which therapeutic modalities may be designed by targeting different ligand-binding sites of nsp16, including RNA cap and SAM pockets, for the treatment of COVID-19 and emerging coronavirus illnesses.Results and discussionCrystallizationOverall structure of the SARS-CoV-2 nsp16/nsp10 ternary complex.a Subunit arrangement of nsp16 (cyan) and nsp10 (orange cartoons) proteins with respect to RNA cap (red stick), and S-adenosyl methionine or SAM (blue stick). Proteins and nucleotides are shown in cartoon and stick modes, respectively. Black spheres, Zn2+ atoms bound to nsp10; Magenta stick, adenosine bound to nsp16. b Electrostatic surface representation of nsp16/nsp10 with saturated blue and red at +5 kT/e and -5 kT/e, respectively. A yellow line represents a tentative path for downstream RNA sequence calculated by superposing the target bases in current, VP39, and Dengue NS5 ternary complexes.Binding modes of RNA cap analogues and SAM and mechanism of methyl transfer.a Overlay of a binary (S-adenosyl methionine or SAM-bound; gray cartoons) and ternary (SAM, RNA cap-bound; light cyan cartoons) complexes shows outward motions (green arrows: 7 A in gate loop 1, and 5.2 A in gate loop 2) after RNA cap binding to nsp16. RNA cap, red stick; SAM in ternary complex, blue stick; SAM in binary complex, gray stick. b green sticks; nsp16 residues that interact with RNA cap. c magenta sticks; nsp16 residues that contact with SAM. d A close-up view of Cap-nsp16 interactions reveals a network of hydrogen bonding with successive phosphates, me7GO and A1 nucleotides of cap. Water, gray spheres, h-bonds, black dashed lines. e A water (yellow sphere) coordinates with the target 2'-O atom of A1, and catalytic tetrad residues and N43. The methyl group of SAM is positioned for direct in-line attack from the 2'-O. f Binding isotherms and fitting of data for nsp16 binding to RNA cap-0 (me7GpppA), cap-1 (me7GpppAm) analogues, and SAM. Each data point represents average of two independent experiments (n = 2). g The 2'-O methyltransferase activity measured as percentage of Cap-0 to Cap-1 conversion is plotted against nsp16/nsp10 protein concentration. Higher enzymatic activity is observed on an RNA substrate with A (red circles) as the target base for 2'-O methylation (N1), compared to an identical RNA but with G (black square) as N1 or initiating nucleotide. Results are average of three independent experiments (n = 3) with one standard deviation (s.d.) for each RNA shown as error bars. Source data are provided as a Source Data file. h Guanine base (yellow stick) is modeled at N1 position of cognate adenine (red stick). The N2 amine of guanine intrudes into the SAM pocket and may be repelled by positively charged sulfur of SAM (blue stick).We co-purified full-length SARS-CoV-2 nsp16 and nsp10 proteins as a complex from E. coli, mixed with nucleoside drugs such as adenosine or 5'-methylthioadenosine, and conducted crystallization screenings (see Methods for details). We anticipated that these drugs may occupy the binding sites of SAM or RNA cap due to their common purine ring plus ribose. Since nucleoside analogues exhibit antiviral activity, an nsp16/nsp10/adenosine complex could then serve as a starting point for medicinal chemistry to generate more effective drug candidates. Next, we soaked these crystals with me7GopppA1 representing the Cap-0 state of the RNA cap and substrate of this complex. We determined the ternary structure of nsp16/nsp10 by molecular replacement using the SARS-CoV-1/SAM binary complex (PDB ID 3R24) structure as a template (Supplementary Table 1). The initial difference maps indicated electron densities for SAM and me7GopppA1 cap in their respective binding pockets. Even though SAM was not included in co-crystallization or soaking experiments, its electron density was unambiguously identified in the difference maps (see methods section, and Figs. 1 and 2, Supplementary Fig. 2a-d). This observation is consistent with the copurification tendency of SAM or SAH during isolation from expression hosts, as seen previously with NS5 of ZIKA and VP39 of vaccinia virus cap 2'-O MTases. Unexpectedly, we observed electron density on the opposite face of nsp16, >25 A away from the catalytic pocket, that was consistent with adenosine, that we had included in our crystallization mixture (Fig. 1, Supplementary Figs. 2 and 3). Further examination showed that this alternative ligand-binding pocket was partially composed of amino-acid residues unique to SARS-CoV-2 (Supplementary Fig. 1).Overall structureNsp16 adopts a canonical S-adenosyl methionine (SAM)-dependent methyltransferase (SAM-MTase) protein fold, with slight variations. Its protein sequence displays a sequential order of secondary structural elements:  beta1alpha1alpha2beta2alpha3beta3beta4 beta5beta6 alpha4beta7alpha5beta8 beta9alpha6 beta10 alpha7beta11beta12, wherein the ' ' denotes a 310-helix (Fig. 1, Supplementary Fig. 1). The nsp16 MTase fold consists of a centrally located twisted beta sheet of eight strands flanked by two alpha-helices on one side and three helices on the other. The beta sheet displays a continuum of four antiparallel (beta1beta8beta9beta7) and four parallel (beta6beta2beta3beta4) beta strands, with the cap analogue substrate situated within the confluence of these two halves. Loops emanating from strands beta9, beta7, and beta6 form a deep groove in the center to accommodate the RNA cap, whereas the methyl donor SAM is bound within a cavity formed by the loops originating from strands beta6 and beta2. The protein chain emerging from helix alpha4 runs across this groove and folds into a subdomain ( beta10 alpha7beta11beta12) that stabilizes the bottom portion of nsp16 (Fig. 2). The putative adenosine binding pocket we identified is located ~25 A away at the back of the catalytic pocket (Fig. 1).Nsp10 is a 139 amino-acid long zinc-binding protein that stimulates the enzymatic activity of nsp16. We traced all functional regions known for protein-protein and protein-metal binding in nsp10, with the exception of the N-terminal 17 residues that appear to be disordered in our structure, but form an alpha-helix in the binary state (CoV-1 nsp10) in the absence of a cap structure. The N-terminus of this helix runs in the direction of the cap-binding site of nsp16 but locates >20 A away from the catalytic center. Nsp10 adopts a structural fold with two distinct Zn-binding modules, including a gag-knuckle-like fold. Binding of the RNA cap did not induce any major conformational change in nsp10.RNA cap analogue bindingWe compared our ternary structure with bound substrate to that of SARS-CoV-1 nsp16/nsp10 bound to SAM (PDB ID 3R24), but without substrate. While the cores of the nsp16 and nsp10 proteins remain largely unperturbed (with an RMSD of 1.11 A for 292 Calpha atoms between the prior CoV-1 structure and our own), we found significant deviations in two regions of nsp16 that constitute the substrate-binding pocket. We refer to these regions as gate loop 1 (amino acids 20-40) and gate loop 2 (amino acids 133-143) (Fig. 2). The binding of the Cap-0 substrate results in an ~180  outward rotation of gate loops 1 and 2 from their positions in the binary structure displacing them by 7 A and 5.2 A, respectively. The resultant widening of the pocket allows accommodation of the RNA cap substrate, and engages the N7-methyl guanosine base of Cap-0 (me7Go) in a deep groove formed by residues of gate loop 1 on one side and gate loop 2 on the other (Fig. 2a, b, d, f, Supplementary Movie 1, Supplementary Fig. 4). The loop region immediately downstream of Pro134 that is part of gate loop 2 also flips ~180  in the ternary complex to accommodate the A1 nucleotide of the cap (Fig. 2a). Gln28 and Asn29 (gate loop 1) orient outward, whereas the side chain of invariant Tyr30 rotates inward, thereby forming a cleft to stabilize the purine ring of me7Go through a pi-pi stacking interaction (Fig. 2d).The opposite face of the me7Go purine ring is stabilized by a H-bond between an oxygen of Glu173 and the positively charged N7 of me7Go. The methyl group of me7Go is stabilized by hydrophobic interactions with Cys25 (gate loop 1) and Ser 202 from the loop connecting the beta8 and beta9 strands (Fig. 2b, d). These specific interactions with the positively charged N7 and the methyl moiety of the me7Go may confer substrate selectivity against the uncharged GopppA. In gate loop 2, Asn138 rotates outward and the side chain of the invariant Lys137 rotates ~180  inward and forms stabilizing electrostatic interactions with all 3 phosphates of the Cap-0 structure and the 3'-O of the me7Go ribose. Tyr30 and Lys137 form a partial enclosure to restrict the movement of the terminal residue (me7Go) of the RNA cap (Fig. 2b, d, Supplementary Movie 1). Gate loop 1 runs perpendicular to the purine ring of me7Go such that the backbone amide of Leu27 forms a hydrogen bond with O6 of me7Go to confer specificity for guanine. The ribose sugar of me7Go is sandwiched by the sidechains of Lys137 and His174 in gate loop 2 (Fig. 2b, d). The three phosphates of me7GopppA1 are stabilized through H-bonds with residues located in the loop regions emanating from the beta6 (Tyr132, Lys137), beta7 (Thr172 and His174), and beta8 (Ser 201 and Ser 202) strands (Fig. 2d, Supplementary Fig. 4). By comparing our structure with those for the 2'O MTases of Dengue (PDB ID: 5DT0) and Vaccinia (PDB ID: 1AV6) viruses, we note that only one aromatic residue (Tyr30 in SARS-CoV-2 nsp16 and Phe25 in dengue virus NS5) makes the stacking interaction with the me7Go of the RNA cap. In contrast, two aromatic residues (Tyr22, Phe180) intercalate the me7Go of RNA cap in VP39 of vaccinia virus (PDB ID: 1AV6). Also, the distance between N1 and me7Go bases remains unchanged (~10 A), and the SAM/SAH and N1 in all three structures overlay well in three structures. However, the terminal me7Go base of CoV-2 RNA cap rotates ~180  around the gamma-phosphate (compared to Dengue virus) to assume a radically different orientation, suggesting a diverse geometric arrangement of the RNA cap in RNA/DNA viruses (Supplementary Fig. 2e). This distinct feature of RNA cap can be exploited to design selective antivirals for SARS-CoV-2.Methyl donor (SAM) bindingSAM occupies the same pocket, and orients similarly as in the binary complex (PDB ID 3R24). Several loops emanating from the C-terminal ends of the four parallel beta strands (beta2, beta3, beta4, and beta6) of the central beta sheet form a deep groove to accommodate SAM through an extensive network of electrostatic, hydrophobic, and van der Waals interactions (Fig. 2c, f). In contrast to the substrate-binding pocket, which is largely basic, the SAM binding pocket in nsp16 is enriched by negatively charged residues (Fig. 1b). The sidechains of Asp99 and Asn101 from strand beta3 form hydrogen bonds with terminal oxygens of the ribose sugar, whereas the purine ring of SAM is partially circled by sidechains of Leu100 (beta3) Asp114, Cys115 (beta4), and Met131 (beta6), and Phe149. Asp114 makes a base-specific interaction with SAM via a hydrogen bond with the N6 amino group of the purine ring. A four amino-acid long stretch (Met131 to Pro134) that corresponds to gate loop 2 intrudes into the SAM and cap-binding pockets and separates the two purine rings of SAM and A1 (the target adenine) by ~10 A. This separation favorably orients the ribose sugar of A1 and the donor methyl group of SAM for 2'-O methylation. The carboxy end of SAM is stabilized by charged interactions from the sidechains of Asn43 and Tyr47 and the backbone amide of Gly81 (Fig. 2c, Supplementary Fig. 4).Methylation of target adenine of RNA capBased on the crystal structures of SAM and SAH-bound SARS-CoV-1 nsp16/nsp10 complexes, a catalytic mechanism that involves a tetrad consisting of the invariant Lys46, Asp130, Lys170, and Glu203 has been proposed. Our ternary complex has allowed us to examine the model in the presence of the Cap-0 substrate. The catalytic pocket adopts a conical shape where residues of the catalytic tetrad circle a water molecule at the bottom of the cone, whereas the target atom (2'-OH) of the A1 nucleotide resides at the tip of the cone. The methyl group of SAM is positioned 3 A from the 2'-OH of A1, available for a direct in-line attack from the 2'-OH (Fig. 2c, e). An earlier study posits that the target 2'-OH of the ribose in a ternary complex would initially occupy the position of the water while Lys46 would become a deprotonated general base and activate the 2'-OH to attack the methyl group of SAM with Asp130 stabilizing the positive charge of the methyl group. However, our structure shows that this water molecule, located 3 A from the target 2'-OH of the A1 base ribose, remains unperturbed in the ternary structure of CoV-2 and binary structures of CoV-1 nsp16. If the ribose were to occupy the position of water as suggested, the adenine ring of A1 would sterically clash with SAM. Also, Lys170 is much closer to the 2'OH (2.8 A) than Lys46 (3.4 A) and is held in place by charged interactions from the sidechains of Asp130 and Glu203 from both sides (Fig. 2e, Supplementary Fig. 4). Thus, in our ternary complex structure, Lys170 best matches the one activating the 2'-OH in other viral 2'-O MTases (e.g., Lys180 of dengue virus NS5, and Lys175 of vaccinia virus VP39), and likely serves as a general base during 2'-O methyl transfer in SARS-CoV-2. One possible role of the water molecule is that it cooperates with Asp130 to transiently stabilize the transfer of the positively charged methyl group from SAM to the 2'-O of A1 base. We propose that once occupied by SAM, the catalytic pocket is primed for A1 base binding and catalysis. This may be a general mechanism for 2'-O methylation for all coronaviruses.Supporting this concept, nsp16/nsp10 showed robust 2'-O methyltransferase activity. Consistent with its specificity in vivo, we observed a marked reduction in activity when the first transcribing nucleotide (N1) was changed from the cognate adenine to non-cognate base guanine (Fig. 2g). While this has been observed previously, the structural basis for base discrimination has not been defined. While we see no base-specific contact for the N1 base in our ternary structure, modeling of other bases (G/C/U) at this position provides some clues as to how specificity for A arises. The Pro134 resides at van der Waals distance from the purine ring of the N1 base. A guanine at N1 will not alter this interaction but the N2 amino group of guanine intrudes into the SAM pocket thereby reducing the distance between guanine and SAM by ~0.7 A. As a result, the positively charged sulfur of SAM may repel the purine ring of guanine leading to reorientation of its target sugar 2'-OH to a position unfavorable for methyl transfer. A pyrimidine base (U/C) at N1 position will sterically clash with the side chain of Tyr132 (Fig. 2h, Supplementary Fig. 2f). Although all components required for methylation are present in our crystals, we have not observed methylation of 2'-OH, possibly due to lower abundance of methyl and sulfur groups of SAM (75% occupancy) and requirement for additional RNA sequence downstream of the target A1 base. Thus, the ternary structure that we have described may represent a pre-reaction state of 2'-O methyl transfer.Acquired mutations in SARS-CoV-2 and their implicationsTo better understand the role of acquired mutations in SARS-CoV-2 nsp16 (compared to CoV-1), we aligned nsp16 sequences from nine coronavirus strains representing all three sub-classes (alpha, beta, and gamma), and mapped their positions in the current structure (Supplementary Fig. 1). Although most residues that participate in catalysis and substrate/SAM binding are conserved across species, notable differences were found (Supplementary Figs. 1, 3b). Compared to CoV-1, acquired mutations span the entire nsp16 sequence: E32D and N33S (gate loop 1); K135R (gate loop 2); and S188A, A209C, T223V, N265G, Y272L, E276S, V290I, and I294V (Supplementary Figs. 1, 3b). Given the role of gate loop regions in RNA substrate binding, mutations E32D and N33S in gate loop 1 and K135R in gate loop 2 may influence RNA binding or enzyme kinetics. Interestingly, a recent transcriptomic profiling study of SARS-CoV-2 strains associated with the New York City outbreak found high occurrence of a mutation (20755:A > C) that will change serine 33 to an arginine in gate loop 1 of SARS-CoV-2 nsp16. Future studies will reveal the impact of this mutation on enzyme activity.Alternative ligand-binding site in nsp16.a nsp16 residues that participate in adenosine (magenta stick) binding are shown as green sticks; water molecules are shown as yellow spheres. b Cys209 (green sphere) in the beta9 strand, which is present in nsp16 of SARS-CoV-2, but no other CoV strain.Three specific mutations (S188A (beta8), A209C (beta9), and E276S (alpha7)) form part of the adenosine binding pocket we have described 25 A from the substrate-binding site. Two of the mutations, A209C (beta9) and E276S (alpha7), are not present in any other CoV strain, whereas S188A, is present in one human strain (HKU1), two avian strains (TCoV and IBV) and one mouse strain (MHV) (Fig. 3, Supplementary Fig. 3b). The Ala188 and Cys209 in CoV-2 nsp16 reside at one end of the antiparallel beta strands beta8 and beta9, respectively. Since the residues located at the other end of these interconnecting beta strands (invariant Ser 201 and Ser 202) recognize the alpha and beta phosphates of the RNA cap, the binding of adenosine (or a larger ligand) to this alternative site may influence the RNA cap binding. Moreover, the alpha7 helix interconnects the c-terminal extension (amino acids 256-298), MTase core, and the N-terminal domain (alpha2) of nsp16. The E276 (alpha7) in CoV-1 interacts with K216 located at the surface of MTase core. This charged interaction pair is broken in CoV-2 due to E276S and K216R mutations. However, binding of a small molecule ligand such as adenosine along with van der Waal interactions between S276 and A188 stabilizes this region of nsp16 in CoV-2.At ~25 A away, and on the back of the catalytic center, this ligand-binding pocket does not present obvious characteristics for adenine specificity such as an aspartic acid or asparagine residue, which would usually make a hydrogen bond with the N6 amino group of adenine. Nonetheless, it displays two similarities with the SAM binding pocket: the purine ring in both pockets resides in an acidic environment, and both pockets harbor a cysteine near N6 of the purine ring. In the SAM pocket, Cys115 is 4.1 A from the N6 amino group, with a ~64  angle between N1 and the C6 atoms of the adenine ring with respect to Cys115 (Fig. 2c). An equivalent cysteine in the adenosine pocket, Cys209, is at 3.5 A away from, and at a ~85  angle to the N6 of adenine. The purine ring of adenosine is further stabilized by stacking and electrostatic interactions with Trp189 and Thr58, respectively. Its 5' tail, while exposed to solvent, interacts with Asn13. (Fig. 3, Supplementary Fig. 4). Thus, the lack of extensive interactions for adenosine and its high temperature factors (compared to RNA cap analogue and SAM) suggest that this pocket is probably not specific for adenosine but could accommodate other small molecules with a heterocyclic ring. Supporting this hypothesis, recent crystal structures of SARS-CoV-2 nsp16 showed a sugar moiety (beta-D-fructopyranose, PDB ID: 6W4H), or modified nucleotides (me7GDP, PDB ID: 6WQ3; me7GTP, PDB ID: 6WRZ) occupying the position of adenosine (Supplementary Fig. 3c-f). In SARS-CoV-1 nsp16 (PDB ID: 2XYR), a metal ion (Mg2+) is present in the vicinity of the adenosine/me7GDP/me7GTP/beta-D-fructopyranose/me7GTP ligands binding site (Supplementary Fig. 3e). Thus, we propose that this distant region endows nsp16 with the unique ability to bind small molecules outside of the catalytic pocket.In conclusion, we have presented here a high-resolution structure of a ternary complex of SARS-CoV-2 RNA cap/nsp16/nsp10 complex captured just prior to ribose 2'-O methylation. The structure also reveals the basis of an 'induced fit' model of the RNA cap binding and 2'-O methylation of the first transcribing nucleotide of SARS-CoV-2 genome. Also, we describe a distantly located ligand-binding site in nsp16/10 capable of accommodating small molecules outside of the catalytic pocket, which may be considered, in addition to SAM- and RNA cap-binding pockets, in the development of antiviral therapies to treat SARS-CoV-2 infections.MethodsProtein expression and purificationThe coding sequences of nsp16 (NCBI reference sequence YP_009725311.1) and nsp10 (NCBI reference sequence: YP_0009725306.1) of the Wuhan seafood market pneumonia virus isolate Wuhan-Hu-1 (NC_045512) were cloned into a single pETduet-1 vector downstream to a 6XHis tag sequence. This plasmid was transformed into an E. coli expression strain BL21 (DE3). The transformed cells were grown in Terrific Broth medium supplemented with ampicillin at 37  C. Protein expression was induced by adding 0.4 mM isopropyl beta-D-thiogalactopyranoside (IPTG) at OD600 = 0.6 followed by continued incubation of the cultures for 14 h at 18  C. Cells were then harvested by centrifugation at 8983 x g for 20 min. Thereafter, cells were re-suspended in ice-cold lysis buffer. Cell lysis was accomplished using a microfluidizer (Analytik, UK). The lysate was centrifuged at 158,000 x g for 40 min and passed through a 0.22 microm filter. The clarified soluble fraction was loaded on to a Nuvia IMAC column (Bio-Rad) pre-equilibrated in binding buffer containing 25 mM Tris-HCl pH 8.0, 0.2 M NaCl, 0.1 mM TCEP, 5% Glycerol. The proteins were eluted by increasing the concentration of imidazole. The 6XHis tag was then proteolytically removed.The tag-free sample was re-applied to the IMAC column to separate the un-cleaved protein fraction. The proteins were purified by successive passage through HiTrap heparin and Superdex 75 columns (GE Healthcare). The nsp16/nsp10 complex was eluted as a single homogenous species in a final buffer containing 25 mM Tris-HCl pH 8.0, 0.5 M NaCl, 0.1 mM TCEP, 10% glycerol and 5 mM MgSO4. The purified protein complex was concentrated to 15 mg/mL, mixed with 5 molar excess of adenosine, and subjected to extensive crystallization trials.CrystallizationThe nsp16/nsp10 complex was crystallized in the presence S-adenosyl methionine (SAM) and adenosine. Initial crystals were grown by the sitting drop vapor diffusion method. After 3-4 rounds of optimizations by varying pH, precipitant and the salt concentrations, we grew larger crystals amenable to synchrotron radiation. Diffraction-quality crystals were grown in a crystallization solution containing 10% (v/v) MPD, 0.1 M HEPES pH 7.0. We soaked these crystals with me7GpppA RNA analogue representative of Cap-0 structure. Before data collection, the cocrystals were cryoprotected by serial soaks in a solution containing original mother liquor and increasing concentrations (0-20% v/v) of ethylene glycol, and then flash-frozen in liquid nitrogen.X-ray diffraction data collection and structure determinationCrystals of the nsp16/nsp10/SAM/Cap-O/adenosine complex diffracted X-rays to 1.8 A resolution with synchrotron radiation. The crystals belong to space group P3121 with unit cell dimensions a = b = 168 A, c = 52.3 A, c = 313.9 A, alpha = beta = 90 , and gamma = 120 , and with one nsp16/nsp10 heterodimer per asymmetric unit. All data (measured at wavelength 0.9792 A) were indexed, integrated, and scaled using XDS, aimless, and various ccp4 suite programs (truncate, freeflag, and mtz2various). The structure was solved by molecular replacement using a binary complex (SAM-bound) of nsp16/nsp10 (PDB ID: 3R24) structure as a template in Phaser. The resulting maps indicated the electron densities for SAM, RNA Cap-0 analogue, and adenosine, and regions in nsp16 with extreme conformational changes (gate loops 1 and 2). To confirm the identity of bound cofactor (SAM) or its reaction by-product S-adenosyl homocysteine (SAH) in the SAM binding pocket, we calculated the unbiased Fo-Fc maps by excluding ligands from the refinement and phase calculations. We refined the model by including SAH or SAM or SAM with the methyl group modeled in the opposite direction from the target 2'-OH. By comparing these results, we concluded that SAM predominantly occupied this site with methyl group pointing in the direction of the target 2'-OH. As presented, the SAM was refined with 100% occupancy except for the sulfur and methyl moieties, which were refined at 75% occupancy (Supplementary Fig. 2a-d). We iteratively rebuilt and refined the model using the programs Coot and REFMAC. The final model was refined to 1.8 A resolution with Rfree and Rwork values of ~18.1% and 14.3%, respectively, (Supplementary Table 1). A Ramachandran plot for the final model shows 94.1% of the residues in the most preferred regions, 4.6% in the additionally allowed regions, and 1.2% in the disallowed regions. All figures that depict structural models were generated using Pymol (The PyMOL Molecular Graphics System, Version 2.0 Schrodinger, LLC.).Determining affinities for nsp16/nsp10 ligandsThe purified nsp16/nsp10 protein complex was labeled with a protein labeling Kit (Monolith, RED-NHS 2nd Generation kit, Cat# MO-L011). In brief, 20 microM of protein was incubated with dye solution (60 microM) in the labeling buffer and the reaction was allowed to proceed at room temperature for 30 min. Each ligand was dissolved in the Microscale thermophoresis (MST) reaction buffer containing 20 mM HEPES pH 7.5, 150 mM NaCl, 0.5% glycerol, and 0.05% Tween 20. Two-fold serial dilutions started from 2 mM ligand concentrations were made in 12 steps. The labeled protein at a final concentration of 20 nM was equally mixed into each ligand reaction (ligand concentration range 500 nM-1 mM). The final reaction mixtures were loaded into premium capillary chips (Monolith Cat# MO-AK005) and measured on a Monolith NT.115 instrument (NanoTemper Technologies) at 20% excitation power and 40% MST power at 25  C. The results shown here are from two independent experiments. Data were fitted by a single-site binding model in GraphPad Prism (GraphPad Software, San Diego, CA).Enzyme activity assayTo assess the relative activity of nsp16/nsp10 on RNA with adenosine or guanosine as the initiating nucleotide, increasing concentrations of purified nsp16/nsp10 were allowed to react with 1 microM me7GpppA- or me7GpppG-capped 25 nt RNA in a buffer containing 50 mM Tris-HCl, pH 8.0, 5 mM KCl, 1 mM DTT, 0.2 mM SAM and 1 mM MgCl2. The reactions were incubated at 37  C for 30 min and stopped by heating at 75  C for 5 min. The reactions were subjected to LC/MS intact mass analysis. Briefly, nucleic acids in the samples were separated using a Thermo DNAPac  RP Column (2.1 x 50 mm, 4 microm) on a Vanquish Horizon UHPLC System, followed by mass determination using a Thermo Q-Exactive Plus mass spectrometer. The raw data were deconvoluted using Promass HR (Novatia Inc.). The ratio of the deconvoluted mass peak intensity of the reactants and the expected products were used to estimate the percentage of 2'-O methylation. Results from three independent experiments are shown.The two RNA substrates used in this assay only differ by 1 base (A vs G) at N1 base position: me7GpppAUAGAACUUCGUCGAGUACGCUCAA-[6-FAM]me7GpppGUAGAACUUCGUCGAGUACGCUCAA-[6-FAM]Reporting summaryFurther information on research design is available in the Nature Research Reporting Summary linked to this article.Supplementary informationSource dataPeer review information Nature Communications thanks the anonymous reviewers for their contribution to the peer review of this work.Publisher's note Springer Nature remains neutral with regard to jurisdictional claims in published maps and institutional affiliations.These authors contributed equally: Thiruselvam Viswanathan, Shailee Arya.Supplementary informationSupplementary information is available for this paper at 10.1038/s41467-020-17496-8.Author contributionsY.K.G. conceived, designed, supervised overall study, and also performed crystallographic studies; S.A. and T.V. expressed and purified proteins; T.V. performed crystallographic studies; S.Q. and T.V. performed biochemical assays; S.-H.C. and N.D. performed enzymatic assays; J.P., F.O., and L.M.-S. provided reagents, analyzed data; A.M., D.K., and R.A.H. analyzed data. Y.K.G. and S.-H.C. wrote the manuscript with input from all co-authors.Data availabilityThe information about coding sequences of nsp16 (NCBI reference sequence YP_009725311.1) and nsp10 (NCBI reference sequence: YP_0009725306.1) of the Wuhan seafood market pneumonia virus isolate Wuhan-Hu-1 (NC_045512) used in this study is available at NCBI (https://www.ncbi.nlm.nih.gov/nuccore/NC_045512). Files for atomic coordinates and structure factors were deposited in the Protein Data Bank under accession code 6WKS. Source data are provided as a Source Data file. Correspondence and requests for material should be addressed to Y.K.G. (guptay@uthscsa.edu). Source data are provided with this paper.Competing interestsY.K.G is founder of Atomic Therapeutics. R.A.H. owns equity in Dialectic Therapeutics and Abfero. S-H.C. and N.D. are employees of New England Biolabs, a manufacturer and vendor of molecular biology reagents, including vaccinia RNA capping enzyme and cap 2'O methyltransferase. None of these affiliations affect the authors' impartiality, adherence to journal standards and policies, or availability of data.ReferencesSix months of coronavirus: the mysteries scientists are still racing to solveA pneumonia outbreak associated with a new coronavirus of probable bat originBlocking eIF4E-eIF4G interaction as a strategy to impair coronavirus replicationIn vitro reconstitution of SARS-coronavirus mRNA cap methylationRNA 3'-end mismatch excision by the severe acute respiratory syndrome coronavirus nonstructural protein nsp10/nsp14 exoribonuclease complexConventional and unconventional mechanisms for capping viral mRNAHuman coronavirus 229E nonstructural protein 13: characterization of duplex-unwinding, nucleoside triphosphatase, and RNA 5'-triphosphatase activitiesBiochemical and structural insights into the mechanisms of SARS coronavirus RNA ribose 2'-O-methylation by nsp16/nsp10 protein complexSequestration by IFIT1 impairs translation of 2'O-unmethylated capped RNARibose 2'-O-methylation provides a molecular signature for the distinction of self and non-self mRNA dependent on the RNA sensor Mda52'-O methylation of the viral mRNA cap evades host restriction by IFIT family membersInnate immune restriction and antagonism of viral RNA lacking 2-O methylationConstruction of a severe acute respiratory syndrome coronavirus infectious cDNA clone and a replicon to study coronavirus RNA synthesisAttenuation and restoration of severe acute respiratory syndrome coronavirus mutant lacking 2'-o-methyltransferase activityCoronavirus nsp10/nsp16 Methyltransferase can be targeted by nsp10-derived peptide in vitro and in vivo to reduce replication and pathogenesisCrystal structure and functional analysis of the SARS-coronavirus RNA cap 2'-O-methyltransferase nsp10/nsp16 complexBroad-spectrum antiviral activity of the carbocyclic analog of 3-deazaadenosineCarbocyclic analogue of 3-deazaadenosine: a novel antiviral agent using S-adenosylhomocysteine hydrolase as a pharmacological targetMetabolism of the broad-spectrum antiviral agent, 9-(S)-(2,3-dihydroxypropyl) adenine, in different cell linesStructures of NS5 Methyltransferase from Zika VirusThe 1.85 A structure of vaccinia protein VP39: a bifunctional enzyme that participates in the modification of both mRNA endsSAM (dependent) I AM: the S-adenosylmethionine-dependent methyltransferase foldCrystal structure of nonstructural protein 10 from the severe acute respiratory syndrome coronavirus reveals a novel fold with two zinc-binding motifsMolecular basis for specific viral RNA recognition and 2'-O-ribose methylation by the dengue virus nonstructural protein 5 (NS5)Structural basis for sequence-nonspecific recognition of 5'-capped mRNA by a cap-modifying enzymeButler, D.J. et al. Shotgun transcriptome and isothermal profiling of SARS-CoV-2 infection reveals unique host responses, viral diversification, and drug interactions. Preprint at 10.1101/2020.04.20.048066v5 (2020).XdsThe CCP4 suite: programs for protein crystallographyCoot: model-building tools for molecular graphics\n"
     ]
    }
   ],
   "source": [
    "# LABEL CHUNKS\n",
    "# Obtain list of sentences \n",
    "df = pd.read_csv(\"chunks_dataset.csv\")\n",
    "# text = df.sample(n=3)\n",
    "\n",
    "# Split dataframe into smaller dataframes to work with\n",
    "df_split = np.array_split(df,30)\n",
    "\n",
    "# Instantiate dataframe\n",
    "result = pd.DataFrame(columns=[\"text\", \"label\"])\n",
    "\n",
    "# Iterate through each split\n",
    "for i, split in enumerate(df_split):\n",
    "    # if i < 3:\n",
    "    #     continue\n",
    "    print(\"Current split \" + str(i))\n",
    "    labelled_chunks = get_label(split, 'text')\n",
    "    filename = str(i) + \"_chunks_labelled.csv\"\n",
    "    labelled_chunks.to_csv(filename)\n",
    "    # labelled_chunks[\"position\"] = i\n",
    "    labelled_chunks.to_csv(filename)\n",
    "    print(\"Finished split \" + str(i))\n",
    "    print(\"============================================================\")\n",
    "    # Combine labelled_split with result\n",
    "    result = pd.concat([result, labelled_chunks])\n",
    "    \n",
    "result.to_csv(\"labelled_chunks.csv\")\n",
    "# print(\"Finished labelling \" + str(text_index) + \" papers.\")\n",
    "# print(labelled_chunks)"
   ]
  },
  {
   "cell_type": "markdown",
   "id": "96584c2f-bef3-49cb-a4bd-6d624cb6ebbd",
   "metadata": {},
   "source": [
    "# Labelling Guidelines\n",
    "Only label 1 = Yes if it:\n",
    "- Includes specific terms like \"Delta variant\" or any specific variant name\n",
    "- Includes terms like \"mutation\", \"viral variant\", \"strain\", \"variant of concern\" and \"genetic variant\"\n",
    "- Describes characteristics, behaviours, or impacts of the variants, even if not named explicitly\n",
    "- Compares different variants\n",
    "- Discusses genetic mutations or sequences related to viral variants\n",
    "- Discusses spread, transmission rates or infection rates associated with specific variants\n",
    "- Discusses how variants affect vaccine efficacy\n",
    "- Describes changes in symptom severity due to variants\n",
    "- Discusses health outcomes associated with variants\n",
    "- Discusses public health measures or responses tailored to specific variants\n",
    "- Discusses time and place of variant emergence and spread\n"
   ]
  }
 ],
 "metadata": {
  "kernelspec": {
   "display_name": "Python 3 (ipykernel)",
   "language": "python",
   "name": "python3"
  },
  "language_info": {
   "codemirror_mode": {
    "name": "ipython",
    "version": 3
   },
   "file_extension": ".py",
   "mimetype": "text/x-python",
   "name": "python",
   "nbconvert_exporter": "python",
   "pygments_lexer": "ipython3",
   "version": "3.11.5"
  }
 },
 "nbformat": 4,
 "nbformat_minor": 5
}
