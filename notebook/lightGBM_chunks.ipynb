{
 "cells": [
  {
   "cell_type": "markdown",
   "id": "af8e12eb-dd28-4274-a8be-7765e63fc33a",
   "metadata": {},
   "source": [
    "# Process data for lightGBM"
   ]
  },
  {
   "cell_type": "code",
   "execution_count": 1,
   "id": "efca7de3-be2e-4248-be84-5a0811787c39",
   "metadata": {},
   "outputs": [],
   "source": [
    "import pandas as pd\n",
    "import numpy as np"
   ]
  },
  {
   "cell_type": "code",
   "execution_count": 25,
   "id": "fac5c8ff-7b6b-401a-96d9-d171f8ea5a36",
   "metadata": {},
   "outputs": [],
   "source": [
    "data = pd.read_csv(\"lightgbm.csv\")\n",
    "labels = pd.read_csv(\"bert_dataset.csv\")"
   ]
  },
  {
   "cell_type": "code",
   "execution_count": 7,
   "id": "0942aaae-d32a-4db7-9617-8ca2cdc423f6",
   "metadata": {},
   "outputs": [
    {
     "data": {
      "text/plain": [
       "0"
      ]
     },
     "execution_count": 7,
     "metadata": {},
     "output_type": "execute_result"
    }
   ],
   "source": [
    "label.loc[0,'label']"
   ]
  },
  {
   "cell_type": "code",
   "execution_count": 32,
   "id": "07e4de9b-7c65-4d13-ae06-dc2ac287f7f3",
   "metadata": {},
   "outputs": [
    {
     "name": "stdout",
     "output_type": "stream",
     "text": [
      "['prediction_0', 'prediction_1', 'prediction_2', 'prediction_3', 'prediction_4', 'prediction_5', 'prediction_6', 'prediction_7', 'prediction_8', 'prediction_9', 'prediction_10', 'prediction_11', 'prediction_12', 'prediction_13', 'prediction_14', 'prediction_15', 'prediction_16', 'prediction_17', 'prediction_18', 'prediction_19', 'prediction_20', 'prediction_21', 'prediction_22', 'prediction_23', 'prediction_24', 'prediction_25', 'prediction_26', 'prediction_27', 'prediction_28', 'prediction_29', 'prediction_30', 'prediction_31', 'prediction_32', 'prediction_33', 'prediction_34', 'prediction_35', 'prediction_36', 'prediction_37', 'prediction_38', 'prediction_39', 'prediction_40', 'prediction_41', 'prediction_42', 'prediction_43', 'prediction_44', 'prediction_45', 'prediction_46', 'prediction_47', 'prediction_48', 'prediction_49', 'prediction_50', 'prediction_51', 'prediction_52', 'prediction_53', 'prediction_54', 'prediction_55', 'prediction_56', 'prediction_57', 'prediction_58', 'prediction_59', 'prediction_60', 'prediction_61', 'prediction_62', 'prediction_63', 'prediction_64', 'prediction_65', 'prediction_66', 'prediction_67', 'prediction_68', 'prediction_69', 'prediction_70', 'prediction_71', 'prediction_72', 'prediction_73', 'prediction_74', 'prediction_75', 'prediction_76', 'prediction_77', 'prediction_78', 'prediction_79', 'prediction_80', 'prediction_81', 'prediction_82', 'prediction_83', 'prediction_84', 'prediction_85', 'prediction_86', 'prediction_87', 'prediction_88', 'prediction_89', 'prediction_90', 'prediction_91', 'prediction_92', 'prediction_93', 'prediction_94', 'prediction_95', 'prediction_96', 'prediction_97', 'prediction_98', 'prediction_99', 'prediction_100', 'prediction_101', 'prediction_102', 'prediction_103', 'prediction_104', 'prediction_105', 'prediction_106', 'prediction_107', 'prediction_108', 'prediction_109', 'prediction_110', 'prediction_111', 'prediction_112', 'prediction_113', 'prediction_114', 'prediction_115', 'prediction_116', 'prediction_117', 'prediction_118', 'prediction_119', 'prediction_120', 'prediction_121', 'prediction_122', 'prediction_123', 'prediction_124', 'prediction_125', 'prediction_126', 'prediction_127', 'prediction_128', 'prediction_129', 'prediction_130', 'prediction_131', 'prediction_132', 'label']\n"
     ]
    }
   ],
   "source": [
    "grouped = data.groupby('paper')\n",
    "\n",
    "# Maximum number of data points in any group\n",
    "max_len = max(grouped.size())\n",
    "\n",
    "# Create DataFrame with appropriate number of columns\n",
    "columns = [f'prediction_{i}' for i in range(max_len)]\n",
    "columns.append('label')\n",
    "print(columns)\n",
    "\n",
    "df = pd.DataFrame(columns=columns)\n",
    "\n",
    "for name, group in grouped:\n",
    "    predictions = group[\"prediction\"].values.astype(float)\n",
    "    label = labels.loc[name, 'label']\n",
    "    entry = np.pad(predictions, (0, max_len - len(predictions)), constant_values=np.nan)\n",
    "    entry = np.append(entry, label)\n",
    "    df.loc[name] = entry"
   ]
  },
  {
   "cell_type": "code",
   "execution_count": 36,
   "id": "78e32b50-fa6e-4a20-a675-ece3f24765aa",
   "metadata": {},
   "outputs": [
    {
     "name": "stdout",
     "output_type": "stream",
     "text": [
      "0\n",
      "0\n"
     ]
    }
   ],
   "source": [
    "print(sum(df['label'].isna()))\n",
    "print(sum(df['prediction_0'].isna()))"
   ]
  },
  {
   "cell_type": "markdown",
   "id": "c9d1bac0-461c-4bcb-ab48-59300c460b39",
   "metadata": {},
   "source": [
    "# Use lightGBM"
   ]
  },
  {
   "cell_type": "code",
   "execution_count": 59,
   "id": "ea26b42e-7baf-4249-8f62-86073382c83f",
   "metadata": {},
   "outputs": [],
   "source": [
    "import lightgbm as lgb\n",
    "from sklearn.model_selection import train_test_split\n",
    "from sklearn.metrics import accuracy_score, precision_recall_fscore_support"
   ]
  },
  {
   "cell_type": "code",
   "execution_count": 44,
   "id": "5cc17261-eedd-4c3b-ad84-612dd9b1a530",
   "metadata": {},
   "outputs": [],
   "source": [
    "# Separate the target column from the feature columns\n",
    "X = df.drop(columns='label')  # features\n",
    "y = df['label']               # target labels\n",
    "\n",
    "# Split the data into training and testing sets\n",
    "X_train, X_test, y_train, y_test = train_test_split(X, y, test_size=0.2, random_state=42)"
   ]
  },
  {
   "cell_type": "code",
   "execution_count": 46,
   "id": "f02d3d12-dbef-4305-a163-92e6fa6bd38c",
   "metadata": {},
   "outputs": [],
   "source": [
    "# Create a LightGBM dataset\n",
    "lgb_train = lgb.Dataset(X_train, label=y_train)\n",
    "lgb_test = lgb.Dataset(X_test, label=y_test, reference=lgb_train)"
   ]
  },
  {
   "cell_type": "code",
   "execution_count": 47,
   "id": "cbd171c6-2c65-465d-846e-0472af610888",
   "metadata": {},
   "outputs": [],
   "source": [
    "# Set the parameters (without hyperparameter tuning)\n",
    "params = {\n",
    "    'objective': 'binary',\n",
    "    'metric': 'binary_logloss',  # or 'auc'\n",
    "    'boosting': 'gbdt',\n",
    "    'num_leaves': 31,\n",
    "    'learning_rate': 0.05,\n",
    "    'feature_fraction': 0.9\n",
    "}"
   ]
  },
  {
   "cell_type": "code",
   "execution_count": 50,
   "id": "9b4e64e6-4e7d-4ed1-b6d3-8417b0a5db80",
   "metadata": {
    "scrolled": true
   },
   "outputs": [
    {
     "name": "stdout",
     "output_type": "stream",
     "text": [
      "[LightGBM] [Info] Number of positive: 248, number of negative: 246\n",
      "[LightGBM] [Info] Auto-choosing row-wise multi-threading, the overhead of testing was 0.000965 seconds.\n",
      "You can set `force_row_wise=true` to remove the overhead.\n",
      "And if memory is not enough, you can set `force_col_wise=true`.\n",
      "[LightGBM] [Info] Total Bins 110\n",
      "[LightGBM] [Info] Number of data points in the train set: 494, number of used features: 37\n",
      "[LightGBM] [Info] [binary:BoostFromScore]: pavg=0.502024 -> initscore=0.008097\n",
      "[LightGBM] [Info] Start training from score 0.008097\n",
      "[LightGBM] [Warning] No further splits with positive gain, best gain: -inf\n",
      "Training until validation scores don't improve for 10 rounds\n",
      "[LightGBM] [Warning] No further splits with positive gain, best gain: -inf\n",
      "[LightGBM] [Warning] No further splits with positive gain, best gain: -inf\n",
      "[LightGBM] [Warning] No further splits with positive gain, best gain: -inf\n",
      "[LightGBM] [Warning] No further splits with positive gain, best gain: -inf\n",
      "[LightGBM] [Warning] No further splits with positive gain, best gain: -inf\n",
      "[LightGBM] [Warning] No further splits with positive gain, best gain: -inf\n",
      "[LightGBM] [Warning] No further splits with positive gain, best gain: -inf\n",
      "[LightGBM] [Warning] No further splits with positive gain, best gain: -inf\n",
      "[LightGBM] [Warning] No further splits with positive gain, best gain: -inf\n",
      "[LightGBM] [Warning] No further splits with positive gain, best gain: -inf\n",
      "[LightGBM] [Warning] No further splits with positive gain, best gain: -inf\n",
      "[LightGBM] [Warning] No further splits with positive gain, best gain: -inf\n",
      "[LightGBM] [Warning] No further splits with positive gain, best gain: -inf\n",
      "[LightGBM] [Warning] No further splits with positive gain, best gain: -inf\n",
      "[LightGBM] [Warning] No further splits with positive gain, best gain: -inf\n",
      "[LightGBM] [Warning] No further splits with positive gain, best gain: -inf\n",
      "[LightGBM] [Warning] No further splits with positive gain, best gain: -inf\n",
      "[LightGBM] [Warning] No further splits with positive gain, best gain: -inf\n",
      "[LightGBM] [Warning] No further splits with positive gain, best gain: -inf\n",
      "[LightGBM] [Warning] No further splits with positive gain, best gain: -inf\n",
      "[LightGBM] [Warning] No further splits with positive gain, best gain: -inf\n",
      "[LightGBM] [Warning] No further splits with positive gain, best gain: -inf\n",
      "[LightGBM] [Warning] No further splits with positive gain, best gain: -inf\n",
      "[LightGBM] [Warning] No further splits with positive gain, best gain: -inf\n",
      "[LightGBM] [Warning] No further splits with positive gain, best gain: -inf\n",
      "[LightGBM] [Warning] No further splits with positive gain, best gain: -inf\n",
      "[LightGBM] [Warning] No further splits with positive gain, best gain: -inf\n",
      "[LightGBM] [Warning] No further splits with positive gain, best gain: -inf\n",
      "[LightGBM] [Warning] No further splits with positive gain, best gain: -inf\n",
      "[LightGBM] [Warning] No further splits with positive gain, best gain: -inf\n",
      "[LightGBM] [Warning] No further splits with positive gain, best gain: -inf\n",
      "[LightGBM] [Warning] No further splits with positive gain, best gain: -inf\n",
      "[LightGBM] [Warning] No further splits with positive gain, best gain: -inf\n",
      "[LightGBM] [Warning] No further splits with positive gain, best gain: -inf\n",
      "[LightGBM] [Warning] No further splits with positive gain, best gain: -inf\n",
      "[LightGBM] [Warning] No further splits with positive gain, best gain: -inf\n",
      "[LightGBM] [Warning] No further splits with positive gain, best gain: -inf\n",
      "[LightGBM] [Warning] No further splits with positive gain, best gain: -inf\n",
      "[LightGBM] [Warning] No further splits with positive gain, best gain: -inf\n",
      "[LightGBM] [Warning] No further splits with positive gain, best gain: -inf\n",
      "[LightGBM] [Warning] No further splits with positive gain, best gain: -inf\n",
      "[LightGBM] [Warning] No further splits with positive gain, best gain: -inf\n",
      "[LightGBM] [Warning] No further splits with positive gain, best gain: -inf\n",
      "[LightGBM] [Warning] No further splits with positive gain, best gain: -inf\n",
      "[LightGBM] [Warning] No further splits with positive gain, best gain: -inf\n",
      "[LightGBM] [Warning] No further splits with positive gain, best gain: -inf\n",
      "[LightGBM] [Warning] No further splits with positive gain, best gain: -inf\n",
      "[LightGBM] [Warning] No further splits with positive gain, best gain: -inf\n",
      "[LightGBM] [Warning] No further splits with positive gain, best gain: -inf\n",
      "[LightGBM] [Warning] No further splits with positive gain, best gain: -inf\n",
      "[LightGBM] [Warning] No further splits with positive gain, best gain: -inf\n",
      "[LightGBM] [Warning] No further splits with positive gain, best gain: -inf\n",
      "[LightGBM] [Warning] No further splits with positive gain, best gain: -inf\n",
      "[LightGBM] [Warning] No further splits with positive gain, best gain: -inf\n",
      "[LightGBM] [Warning] No further splits with positive gain, best gain: -inf\n",
      "[LightGBM] [Warning] No further splits with positive gain, best gain: -inf\n",
      "[LightGBM] [Warning] No further splits with positive gain, best gain: -inf\n",
      "[LightGBM] [Warning] No further splits with positive gain, best gain: -inf\n",
      "[LightGBM] [Warning] No further splits with positive gain, best gain: -inf\n",
      "[LightGBM] [Warning] No further splits with positive gain, best gain: -inf\n",
      "[LightGBM] [Warning] No further splits with positive gain, best gain: -inf\n",
      "[LightGBM] [Warning] No further splits with positive gain, best gain: -inf\n",
      "[LightGBM] [Warning] No further splits with positive gain, best gain: -inf\n",
      "[LightGBM] [Warning] No further splits with positive gain, best gain: -inf\n",
      "[LightGBM] [Warning] No further splits with positive gain, best gain: -inf\n",
      "[LightGBM] [Warning] No further splits with positive gain, best gain: -inf\n",
      "[LightGBM] [Warning] No further splits with positive gain, best gain: -inf\n",
      "[LightGBM] [Warning] No further splits with positive gain, best gain: -inf\n",
      "[LightGBM] [Warning] No further splits with positive gain, best gain: -inf\n",
      "[LightGBM] [Warning] No further splits with positive gain, best gain: -inf\n",
      "[LightGBM] [Warning] No further splits with positive gain, best gain: -inf\n",
      "[LightGBM] [Warning] No further splits with positive gain, best gain: -inf\n",
      "[LightGBM] [Warning] No further splits with positive gain, best gain: -inf\n",
      "[LightGBM] [Warning] No further splits with positive gain, best gain: -inf\n",
      "[LightGBM] [Warning] No further splits with positive gain, best gain: -inf\n",
      "[LightGBM] [Warning] No further splits with positive gain, best gain: -inf\n",
      "[LightGBM] [Warning] No further splits with positive gain, best gain: -inf\n",
      "[LightGBM] [Warning] No further splits with positive gain, best gain: -inf\n",
      "[LightGBM] [Warning] No further splits with positive gain, best gain: -inf\n",
      "[LightGBM] [Warning] No further splits with positive gain, best gain: -inf\n",
      "[LightGBM] [Warning] No further splits with positive gain, best gain: -inf\n",
      "Early stopping, best iteration is:\n",
      "[72]\ttraining's binary_logloss: 0.126215\tvalid_1's binary_logloss: 0.179049\n"
     ]
    }
   ],
   "source": [
    "# Train the model\n",
    "bst = lgb.train(params, lgb_train, num_boost_round=100, valid_sets=[lgb_train, lgb_test], callbacks=[\n",
    "        lgb.early_stopping(stopping_rounds=10),\n",
    "    ])"
   ]
  },
  {
   "cell_type": "code",
   "execution_count": 61,
   "id": "26b6bd71-da6d-4c25-b87e-9cf6b92fb6c3",
   "metadata": {},
   "outputs": [
    {
     "data": {
      "text/plain": [
       "<lightgbm.basic.Booster at 0x7f4bb4e74f90>"
      ]
     },
     "execution_count": 61,
     "metadata": {},
     "output_type": "execute_result"
    }
   ],
   "source": [
    "bst.save_model('lightbgm_model.txt', num_iteration=bst.best_iteration)"
   ]
  },
  {
   "cell_type": "code",
   "execution_count": 52,
   "id": "ea5e89bf-cb37-4d73-a4db-a0c9594f6daf",
   "metadata": {},
   "outputs": [],
   "source": [
    "# Predict\n",
    "predictions = bst.predict(X_test, num_iteration=bst.best_iteration)"
   ]
  },
  {
   "cell_type": "code",
   "execution_count": 57,
   "id": "79a8064d-5910-4d84-a02b-2586dbdb3c50",
   "metadata": {},
   "outputs": [],
   "source": [
    "def compute_metrics(pred, labels):\n",
    "    labels = labels\n",
    "    preds = [1 if pred > 0.5 else 0 for pred in predictions]\n",
    "    precision, recall, f1, _ = precision_recall_fscore_support(labels, preds, average='binary')\n",
    "    acc = accuracy_score(labels, preds)\n",
    "\n",
    "    return {\n",
    "        'accuracy': acc,\n",
    "        'f1': f1,\n",
    "        'precision': precision,\n",
    "        'recall': recall\n",
    "    }"
   ]
  },
  {
   "cell_type": "code",
   "execution_count": 60,
   "id": "c0c643d0-608a-4a4a-9d05-612574cdd08d",
   "metadata": {},
   "outputs": [
    {
     "data": {
      "text/plain": [
       "{'accuracy': 0.9435483870967742,\n",
       " 'f1': 0.943089430894309,\n",
       " 'precision': 0.9354838709677419,\n",
       " 'recall': 0.9508196721311475}"
      ]
     },
     "execution_count": 60,
     "metadata": {},
     "output_type": "execute_result"
    }
   ],
   "source": [
    "compute_metrics(predictions, y_test)"
   ]
  },
  {
   "cell_type": "code",
   "execution_count": 55,
   "id": "dc971151-6dfd-4ada-ba51-4d60a3683ece",
   "metadata": {},
   "outputs": [
    {
     "name": "stdout",
     "output_type": "stream",
     "text": [
      "Accuracy: 0.9435483870967742\n"
     ]
    }
   ],
   "source": [
    "# Convert probabilities to binary predictions\n",
    "binary_predictions = [1 if pred > 0.5 else 0 for pred in predictions]\n",
    "\n",
    "# Evaluate the model\n",
    "accuracy = accuracy_score(y_test, binary_predictions)\n",
    "print(f'Accuracy: {accuracy}')"
   ]
  },
  {
   "cell_type": "markdown",
   "id": "bd0bf830-0ccf-4e91-bbb8-73327bb2a8b4",
   "metadata": {},
   "source": [
    "# Predict new papers --> flagging new papers"
   ]
  },
  {
   "cell_type": "code",
   "execution_count": null,
   "id": "b5fd67e6-be69-4963-bd35-06634dc3c17b",
   "metadata": {},
   "outputs": [],
   "source": [
    "# need to combine paper after chunking"
   ]
  }
 ],
 "metadata": {
  "kernelspec": {
   "display_name": "Python 3 (ipykernel)",
   "language": "python",
   "name": "python3"
  },
  "language_info": {
   "codemirror_mode": {
    "name": "ipython",
    "version": 3
   },
   "file_extension": ".py",
   "mimetype": "text/x-python",
   "name": "python",
   "nbconvert_exporter": "python",
   "pygments_lexer": "ipython3",
   "version": "3.11.5"
  }
 },
 "nbformat": 4,
 "nbformat_minor": 5
}
