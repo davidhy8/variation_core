{
 "cells": [
  {
   "cell_type": "code",
   "execution_count": 8,
   "id": "7d56be8a-d10d-4690-80f6-5e3de666bad7",
   "metadata": {},
   "outputs": [],
   "source": [
    "import json\n",
    "import random\n",
    "from bioc import biocjson\n",
    "import pandas as pd"
   ]
  },
  {
   "cell_type": "markdown",
   "id": "74634e84-72e5-417a-97cc-1901a693a15a",
   "metadata": {},
   "source": [
    "# Load papers discussing mutations"
   ]
  },
  {
   "cell_type": "code",
   "execution_count": 9,
   "id": "70bb0c25-f461-48e0-9e7f-3ddc99bcd3be",
   "metadata": {},
   "outputs": [],
   "source": [
    "# Load papers discussing SARS-CoV-2 variants\n",
    "with open('data_bioc.txt') as file:\n",
    "        data_bioc = json.loads(file.read())"
   ]
  },
  {
   "cell_type": "code",
   "execution_count": 10,
   "id": "9326410e-07a0-4f50-a528-353d6c5ccfcb",
   "metadata": {},
   "outputs": [],
   "source": [
    "data_bioc = {k: v for k, v in data_bioc.items() if v is not None}"
   ]
  },
  {
   "cell_type": "markdown",
   "id": "46112190-935d-4a92-b6f8-37902f3d876c",
   "metadata": {},
   "source": [
    "# Obtain DOI's\n",
    "data_doi = []\n",
    "for x in data_bioc.keys():\n",
    "     data_bioc.append(x.split(\"doi.org/\")[-1])"
   ]
  },
  {
   "cell_type": "markdown",
   "id": "8da7f0a5-7b25-4ab7-b197-1fe0ba07ba74",
   "metadata": {},
   "source": [
    "# Load all filtered papers"
   ]
  },
  {
   "cell_type": "code",
   "execution_count": 11,
   "id": "927b3646-193d-45f2-9d53-68217e0dc9a7",
   "metadata": {},
   "outputs": [],
   "source": [
    "# Load filtered_papers\n",
    "with open('filtered_papers.txt') as file:\n",
    "        filtered_papers = json.loads(file.read())"
   ]
  },
  {
   "cell_type": "code",
   "execution_count": 12,
   "id": "9c6d70cc-af4d-4091-a7d1-4d3da921ecb0",
   "metadata": {},
   "outputs": [],
   "source": [
    "def related_paper(paper):\n",
    "    try:\n",
    "        doi = paper[\"passages\"][0]['infons']['article-id_doi']\n",
    "        \n",
    "        if doi in data_doi:\n",
    "            return True\n",
    "            \n",
    "    except:\n",
    "        return False\n",
    "\n",
    "    return False"
   ]
  },
  {
   "cell_type": "code",
   "execution_count": 13,
   "id": "0d9ed1b5-ffd1-49cf-be2e-3e0553e813d1",
   "metadata": {},
   "outputs": [],
   "source": [
    "filtered_papers_copy = [x for x in filtered_papers if not related_paper(x)]"
   ]
  },
  {
   "cell_type": "markdown",
   "id": "a906db8f-fdc9-4d2c-b250-c32622f8fae0",
   "metadata": {},
   "source": [
    "# BioC from API"
   ]
  },
  {
   "cell_type": "code",
   "execution_count": 14,
   "id": "d3245277-e71e-4bd7-a44f-bfd10d0b5666",
   "metadata": {},
   "outputs": [],
   "source": [
    "# Load filtered_papers\n",
    "with open('publication_bioc.txt') as file:\n",
    "        publication_bioc= json.loads(file.read())\n",
    "\n",
    "publication_bioc = {k: v for k, v in publication_bioc.items() if v is not None}"
   ]
  },
  {
   "cell_type": "code",
   "execution_count": 15,
   "id": "4e124b99-4582-4ac1-b21c-09e3608ba941",
   "metadata": {},
   "outputs": [],
   "source": [
    "def extract_nested_elements(input_string):\n",
    "    elements = []\n",
    "    start = 0\n",
    "    brace_count = 0\n",
    "    inside_element = False\n",
    "\n",
    "    for i, char in enumerate(input_string):\n",
    "        if char == '{':\n",
    "            if brace_count == 0:\n",
    "                start = i\n",
    "                inside_element = True\n",
    "            brace_count += 1\n",
    "        elif char == '}':\n",
    "            brace_count -= 1\n",
    "            if brace_count == 0 and inside_element:\n",
    "                elements.append(input_string[start:i+1])\n",
    "                inside_element = False\n",
    "\n",
    "    return elements\n",
    "\n",
    "# Example usage\n",
    "# input_string = \"{apple, {fruit: {type: citrus, examples: {lemon, orange}}}}, {banana}, {cherry, {type: berry}}, {date}\"\n",
    "# custom_list = extract_nested_elements(input_string)\n",
    "# print(custom_list)"
   ]
  },
  {
   "cell_type": "code",
   "execution_count": 16,
   "id": "6e793e19-d1e2-4f54-9ac9-bb5be7e8a7eb",
   "metadata": {},
   "outputs": [],
   "source": [
    "# l = extract_nested_elements(publication_bioc[\"https://doi.org/10.1126/science.abl6184\"])"
   ]
  },
  {
   "cell_type": "code",
   "execution_count": 17,
   "id": "380ec426-bc55-4d7b-80cf-76e65483b1bb",
   "metadata": {},
   "outputs": [],
   "source": [
    "# Extract text from data_bioc\n",
    "publication_text = []\n",
    "count = 0 \n",
    "\n",
    "for paper in publication_bioc.values():\n",
    "    text = \"\"\n",
    "    \n",
    "    # count += 1\n",
    "    # if count > 2:\n",
    "    #     break\n",
    "\n",
    "    if count == 1:\n",
    "        break\n",
    "    # print(paper)\n",
    "    paper = paper[1:-1]\n",
    "    \n",
    "    try:\n",
    "        bioc_list = extract_nested_elements(paper)\n",
    "        # for bioc in bioc_list:\n",
    "        \n",
    "        bioc_collection = biocjson.loads(bioc_list[-1])\n",
    "        # bioc_collection = biocjson.loads(paper)\n",
    "        \n",
    "    except:\n",
    "        count += 1\n",
    "        # print(paper)\n",
    "        print(paper)\n",
    "        print(\"\")\n",
    "        print(paper[42506:])\n",
    "        # print(paper[42505])\n",
    "        # print(count)\n",
    "        continue\n",
    "    \n",
    "    for document in bioc_collection.documents:    \n",
    "        for passage in document.passages:\n",
    "            try:\n",
    "                text += passage.text\n",
    "            except:\n",
    "                print(passage)\n",
    "                pass\n",
    "   \n",
    "    if text == \"\":\n",
    "        count += 1\n",
    "        continue\n",
    "\n",
    "    publication_text.append(text)"
   ]
  },
  {
   "cell_type": "code",
   "execution_count": 18,
   "id": "bdbef78f-2bde-45ca-b271-fd194b8fd808",
   "metadata": {},
   "outputs": [
    {
     "data": {
      "text/plain": [
       "195"
      ]
     },
     "execution_count": 18,
     "metadata": {},
     "output_type": "execute_result"
    }
   ],
   "source": [
    "len(publication_text)"
   ]
  },
  {
   "cell_type": "code",
   "execution_count": null,
   "id": "7c87b401-8f42-4f97-8db6-0246e85c331c",
   "metadata": {},
   "outputs": [],
   "source": [
    "count"
   ]
  },
  {
   "cell_type": "code",
   "execution_count": null,
   "id": "df800941-08bb-4d82-a1c7-ae28db4acd37",
   "metadata": {},
   "outputs": [],
   "source": [
    "# publication_bioc[\"https://doi.org/10.1126/science.abl6184\"][42506:]"
   ]
  },
  {
   "cell_type": "code",
   "execution_count": null,
   "id": "2583ff45-ff0b-416a-a0d4-969715a291ef",
   "metadata": {},
   "outputs": [],
   "source": [
    "# publication_bioc[\"https://doi.org/10-1093_cid_ciaa1474\"]"
   ]
  },
  {
   "cell_type": "markdown",
   "id": "28cd6b86-0bf9-4ebf-bfbf-2c9955aa8f4d",
   "metadata": {},
   "source": [
    "# BioC from pdf"
   ]
  },
  {
   "cell_type": "code",
   "execution_count": null,
   "id": "ee74001e-a999-4038-8146-63f0043e814c",
   "metadata": {},
   "outputs": [],
   "source": [
    "# Extract text from unlabelled\n",
    "unlabelled_text = []\n",
    "\n",
    "for paper in unlabelled:\n",
    "    \n",
    "    try:\n",
    "        passage = paper[\"passages\"]\n",
    "    except:\n",
    "        continue\n",
    "    \n",
    "    # authors = paper[\"authors\"]\n",
    "    # pmid = paper[\"id\"]\n",
    "    # year = paper[\"year\"]\n",
    "    text = \"\"\n",
    "\n",
    "    for section in passage:\n",
    "        # print(\" \")\n",
    "        # print(section) \n",
    "        try:\n",
    "            text += section['text']\n",
    "        except:\n",
    "            pass\n",
    "\n",
    "    unlabelled_text.append(text)"
   ]
  },
  {
   "cell_type": "code",
   "execution_count": null,
   "id": "886f8de9-2cc3-4edd-97a6-671411afd148",
   "metadata": {},
   "outputs": [],
   "source": [
    "# Extract text from data_bioc\n",
    "data_text = []\n",
    "count = 0 \n",
    "\n",
    "for paper in data_bioc.values():\n",
    "    text = \"\"\n",
    "    \n",
    "    # count += 1\n",
    "    # if count > 2:\n",
    "    #     break\n",
    "\n",
    "    # if count == 1:\n",
    "    #     break\n",
    "    # print(paper)\n",
    "    paper = paper[1:-1]\n",
    "    \n",
    "    # bioc_list = extract_nested_elements(paper)\n",
    "        \n",
    "    # bioc_collection = biocjson.loads(bioc_list[-1])\n",
    "    \n",
    "    try:\n",
    "        # Some BioC repeat\n",
    "        bioc_list = extract_nested_elements(paper)\n",
    "        # for bioc in bioc_list:\n",
    "        \n",
    "        bioc_collection = biocjson.loads(bioc_list[-1])\n",
    "        \n",
    "    except:\n",
    "        count += 1\n",
    "        # print(paper)\n",
    "        print(bioc_list[-1])\n",
    "        \n",
    "        print(len(bioc_list))\n",
    "        # print(paper[42506:])\n",
    "        # print(paper[42505])\n",
    "        # print(count)\n",
    "        continue\n",
    "    \n",
    "    for document in bioc_collection.documents:    \n",
    "        for passage in document.passages:\n",
    "            try:\n",
    "                text += passage.text\n",
    "            except:\n",
    "                print(passage)\n",
    "                pass\n",
    "   \n",
    "    if text == \"\":\n",
    "        count += 1\n",
    "        continue\n",
    "\n",
    "    data_text.append(text)"
   ]
  },
  {
   "cell_type": "code",
   "execution_count": null,
   "id": "00ecefc2-c435-4d03-a718-15a7043c548b",
   "metadata": {},
   "outputs": [],
   "source": [
    "count"
   ]
  },
  {
   "cell_type": "code",
   "execution_count": null,
   "id": "49b2b2b0-00fc-4ab1-9e77-a3f1746df7e5",
   "metadata": {},
   "outputs": [],
   "source": [
    "len(data_text)"
   ]
  },
  {
   "cell_type": "markdown",
   "id": "5c212d22-ca54-4de5-8f2b-6991704a5b44",
   "metadata": {},
   "source": [
    "# Create labelled training dataset for binary classification"
   ]
  },
  {
   "cell_type": "code",
   "execution_count": null,
   "id": "d72be71e-ad06-4c57-9343-d3b6d4dbef3f",
   "metadata": {},
   "outputs": [],
   "source": [
    "unlabelled = random.sample(filtered_papers_copy, len(publication_text))"
   ]
  },
  {
   "cell_type": "code",
   "execution_count": null,
   "id": "130be30d-7d17-4716-9b1d-3a7d11142ff5",
   "metadata": {},
   "outputs": [],
   "source": [
    "unlabelled_string = []\n",
    "for paper in unlabelled:\n",
    "    unlabelled_string.append(str(paper))"
   ]
  },
  {
   "cell_type": "code",
   "execution_count": null,
   "id": "4adcdda5-b342-4e53-b5c4-c5e8677b64e4",
   "metadata": {},
   "outputs": [],
   "source": [
    "len(unlabelled)"
   ]
  },
  {
   "cell_type": "code",
   "execution_count": null,
   "id": "02617f51-acd3-47f4-9118-8c10e5415b90",
   "metadata": {},
   "outputs": [],
   "source": [
    "df = pd.DataFrame(unlabelled_string, columns=[\"text\"])\n",
    "df[\"label\"] = 0"
   ]
  },
  {
   "cell_type": "code",
   "execution_count": null,
   "id": "65aa8515-4f76-49d7-b6f2-c7e68269879f",
   "metadata": {},
   "outputs": [],
   "source": [
    "df_2 = pd.DataFrame(publication_text, columns=[\"text\"])\n",
    "df_2[\"label\"] = 1"
   ]
  },
  {
   "cell_type": "code",
   "execution_count": null,
   "id": "ac63df2b-4e65-4a20-8ebd-1c873242dcb1",
   "metadata": {},
   "outputs": [],
   "source": [
    "df = pd.concat([df, df_2])"
   ]
  },
  {
   "cell_type": "code",
   "execution_count": null,
   "id": "40bff833-51f9-4ec8-af5b-257abfb5b568",
   "metadata": {},
   "outputs": [],
   "source": [
    "df.to_csv(\"bn_pub_dataset.csv\")"
   ]
  }
 ],
 "metadata": {
  "kernelspec": {
   "display_name": "Python 3 (ipykernel)",
   "language": "python",
   "name": "python3"
  },
  "language_info": {
   "codemirror_mode": {
    "name": "ipython",
    "version": 3
   },
   "file_extension": ".py",
   "mimetype": "text/x-python",
   "name": "python",
   "nbconvert_exporter": "python",
   "pygments_lexer": "ipython3",
   "version": "3.11.5"
  }
 },
 "nbformat": 4,
 "nbformat_minor": 5
}
